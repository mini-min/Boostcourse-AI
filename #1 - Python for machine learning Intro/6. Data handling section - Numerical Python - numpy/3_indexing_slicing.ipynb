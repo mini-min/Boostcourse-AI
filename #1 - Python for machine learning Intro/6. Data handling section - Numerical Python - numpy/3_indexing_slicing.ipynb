{
 "cells": [
  {
   "cell_type": "code",
   "execution_count": 1,
   "metadata": {
    "ExecuteTime": {
     "end_time": "2017-09-26T06:37:50.179800Z",
     "start_time": "2017-09-26T06:37:49.983626Z"
    }
   },
   "outputs": [],
   "source": [
    "import numpy as np"
   ]
  },
  {
   "cell_type": "code",
   "execution_count": 8,
   "metadata": {
    "ExecuteTime": {
     "end_time": "2017-09-26T06:37:51.740944Z",
     "start_time": "2017-09-26T06:37:51.731945Z"
    }
   },
   "outputs": [
    {
     "name": "stdout",
     "output_type": "stream",
     "text": [
      "1\n",
      "1\n"
     ]
    }
   ],
   "source": [
    "# 인덱싱\n",
    "test_exmaple = np.array([[1, 2, 3], [4, 5, 6]], int)\n",
    "print(test_exmaple[0][0])\n",
    "print(test_exmaple[0,0])"
   ]
  },
  {
   "cell_type": "code",
   "execution_count": 8,
   "metadata": {
    "ExecuteTime": {
     "end_time": "2017-09-26T06:38:09.770954Z",
     "start_time": "2017-09-26T06:38:09.766561Z"
    }
   },
   "outputs": [
    {
     "data": {
      "text/plain": [
       "array([[10,  2,  3],\n",
       "       [ 4,  5,  6]])"
      ]
     },
     "execution_count": 8,
     "metadata": {},
     "output_type": "execute_result"
    }
   ],
   "source": [
    "test_exmaple[0,0] = 10 # Matrix 0,0 에 12 할당\n",
    "test_exmaple"
   ]
  },
  {
   "cell_type": "code",
   "execution_count": 9,
   "metadata": {
    "ExecuteTime": {
     "end_time": "2017-09-26T06:38:12.442886Z",
     "start_time": "2017-09-26T06:38:12.438469Z"
    }
   },
   "outputs": [
    {
     "data": {
      "text/plain": [
       "5"
      ]
     },
     "execution_count": 9,
     "metadata": {},
     "output_type": "execute_result"
    }
   ],
   "source": [
    "test_exmaple[0][0] = 5 # Matrix 0,0 에 12 할당\n",
    "test_exmaple[0,0]"
   ]
  },
  {
   "cell_type": "markdown",
   "metadata": {},
   "source": [
    "#### slicing"
   ]
  },
  {
   "cell_type": "code",
   "execution_count": 12,
   "metadata": {},
   "outputs": [
    {
     "name": "stdout",
     "output_type": "stream",
     "text": [
      "[[1 2 3 4]\n",
      " [5 6 7 8]]\n",
      "[[ 2  3]\n",
      " [ 6  7]\n",
      " [10 11]\n",
      " [14 15]]\n",
      "[5 6]\n",
      "[[ 1  3]\n",
      " [ 5  7]\n",
      " [ 9 11]\n",
      " [13 15]]\n"
     ]
    }
   ],
   "source": [
    "test_exmaple = np.array([[1, 2, 3, 4], \n",
    "                         [5, 6, 7, 8], \n",
    "                         [9, 10, 11, 12], \n",
    "                         [13, 14, 15, 16]], int)\n",
    "\n",
    "print(test_exmaple[:2,:])  # row 0, 1의 열 전체\n",
    "print(test_exmaple[:,1:3]) # 전체 row의 1열 ~ 2열\n",
    "print(test_exmaple[1,:2])  # row 1의 0열 ~ 1열\n",
    "print(test_exmaple[:,::2]) # 전체 row의 열 간격 2칸씩"
   ]
  },
  {
   "cell_type": "code",
   "execution_count": 16,
   "metadata": {
    "ExecuteTime": {
     "end_time": "2017-09-26T06:45:47.055820Z",
     "start_time": "2017-09-26T06:45:47.050822Z"
    }
   },
   "outputs": [
    {
     "data": {
      "text/plain": [
       "array([[ 9],\n",
       "       [19],\n",
       "       [29],\n",
       "       [39],\n",
       "       [49],\n",
       "       [59],\n",
       "       [69],\n",
       "       [79],\n",
       "       [89],\n",
       "       [99]])"
      ]
     },
     "execution_count": 16,
     "metadata": {},
     "output_type": "execute_result"
    }
   ],
   "source": [
    "a = np.arange(100).reshape(10,10)\n",
    "a[:, -1].reshape(-1,1)"
   ]
  }
 ],
 "metadata": {
  "kernelspec": {
   "display_name": "Python 3",
   "language": "python",
   "name": "python3"
  },
  "language_info": {
   "codemirror_mode": {
    "name": "ipython",
    "version": 3
   },
   "file_extension": ".py",
   "mimetype": "text/x-python",
   "name": "python",
   "nbconvert_exporter": "python",
   "pygments_lexer": "ipython3",
   "version": "3.8.5"
  },
  "nav_menu": {},
  "toc": {
   "navigate_menu": true,
   "number_sections": true,
   "sideBar": true,
   "threshold": 6,
   "toc_cell": false,
   "toc_section_display": "block",
   "toc_window_display": false
  }
 },
 "nbformat": 4,
 "nbformat_minor": 2
}
