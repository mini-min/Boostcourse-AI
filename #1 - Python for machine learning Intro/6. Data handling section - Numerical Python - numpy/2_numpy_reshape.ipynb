{
 "cells": [
  {
   "cell_type": "code",
   "execution_count": 1,
   "metadata": {
    "ExecuteTime": {
     "end_time": "2018-02-06T10:55:43.613765Z",
     "start_time": "2018-02-06T10:55:43.415129Z"
    }
   },
   "outputs": [],
   "source": [
    "import numpy as np"
   ]
  },
  {
   "cell_type": "markdown",
   "metadata": {},
   "source": [
    "#### reshape"
   ]
  },
  {
   "cell_type": "code",
   "execution_count": 26,
   "metadata": {
    "ExecuteTime": {
     "end_time": "2018-02-06T10:55:44.757921Z",
     "start_time": "2018-02-06T10:55:44.746215Z"
    }
   },
   "outputs": [
    {
     "name": "stdout",
     "output_type": "stream",
     "text": [
      "[[1 2 3 4]\n",
      " [5 6 7 8]]\n",
      "shape: (2, 4)\n",
      "====================\n",
      "[[[1 2]\n",
      "  [3 4]]\n",
      "\n",
      " [[5 6]\n",
      "  [7 8]]]\n",
      "shape: (2, 2, 2)\n",
      "====================\n",
      "[1 2 3 4 5 6 7 8]\n",
      "shape: (8,)\n",
      "====================\n",
      "[[1]\n",
      " [2]\n",
      " [3]\n",
      " [4]\n",
      " [5]\n",
      " [6]\n",
      " [7]\n",
      " [8]]\n",
      "shape: (8, 1)\n"
     ]
    }
   ],
   "source": [
    "test_matrix = [[1,2,3,4], [5,6,7,8]]\n",
    "print(np.array(test_matrix))\n",
    "print(\"shape:\", np.array(test_matrix).shape)\n",
    "\n",
    "print(\"=\" * 20)\n",
    "\n",
    "test_matrix = np.array(test_matrix).reshape(2,2,2)\n",
    "print(test_matrix)\n",
    "print(\"shape:\", np.array(test_matrix).shape)\n",
    "\n",
    "print(\"=\" * 20)\n",
    "\n",
    "test_matrix = np.array(test_matrix).reshape(8,)\n",
    "print(test_matrix)\n",
    "print(\"shape:\", np.array(test_matrix).shape)\n",
    "\n",
    "print(\"=\" * 20)\n",
    "\n",
    "test_matrix = np.array(test_matrix).reshape(-1, 1)\n",
    "print(test_matrix)\n",
    "print(\"shape:\", np.array(test_matrix).shape)"
   ]
  },
  {
   "cell_type": "code",
   "execution_count": 12,
   "metadata": {},
   "outputs": [
    {
     "data": {
      "text/plain": [
       "(2, 4)"
      ]
     },
     "execution_count": 12,
     "metadata": {},
     "output_type": "execute_result"
    }
   ],
   "source": [
    "np.array(test_matrix).reshape(2,4).shape"
   ]
  },
  {
   "cell_type": "code",
   "execution_count": 9,
   "metadata": {
    "ExecuteTime": {
     "end_time": "2017-09-26T06:35:37.334641Z",
     "start_time": "2017-09-26T06:35:37.330454Z"
    }
   },
   "outputs": [
    {
     "data": {
      "text/plain": [
       "(2, 4)"
      ]
     },
     "execution_count": 9,
     "metadata": {},
     "output_type": "execute_result"
    }
   ],
   "source": [
    "np.array(test_matrix).reshape(2,-1).shape"
   ]
  },
  {
   "cell_type": "code",
   "execution_count": 23,
   "metadata": {},
   "outputs": [
    {
     "data": {
      "text/plain": [
       "array([[[1, 2],\n",
       "        [3, 4]],\n",
       "\n",
       "       [[1, 2],\n",
       "        [5, 8]]])"
      ]
     },
     "execution_count": 23,
     "metadata": {},
     "output_type": "execute_result"
    }
   ],
   "source": [
    "np.array(test_matrix).reshape(2,2,2)"
   ]
  },
  {
   "cell_type": "code",
   "execution_count": 25,
   "metadata": {},
   "outputs": [
    {
     "data": {
      "text/plain": [
       "(2, 2, 2)"
      ]
     },
     "execution_count": 25,
     "metadata": {},
     "output_type": "execute_result"
    }
   ],
   "source": [
    "np.array(test_matrix).reshape(2,2,2).shape"
   ]
  },
  {
   "cell_type": "markdown",
   "metadata": {},
   "source": [
    "#### flat or flatten()"
   ]
  },
  {
   "cell_type": "code",
   "execution_count": 30,
   "metadata": {
    "ExecuteTime": {
     "end_time": "2018-02-06T10:59:28.195298Z",
     "start_time": "2018-02-06T10:59:28.189559Z"
    }
   },
   "outputs": [
    {
     "name": "stdout",
     "output_type": "stream",
     "text": [
      "(2, 2, 4)\n",
      "[1 2 3 4 1 2 3 4 1 2 3 4 1 2 3 4]\n",
      "(16,)\n"
     ]
    }
   ],
   "source": [
    "test_matrix = [[[1,2,3,4], [1,2,3,4]], [[1,2,3,4], [1,2,3,4]]]\n",
    "print(np.array(test_matrix).shape)\n",
    "print(np.array(test_matrix).flatten())\n",
    "print(np.array(test_matrix).flatten().shape)"
   ]
  }
 ],
 "metadata": {
  "anaconda-cloud": {},
  "kernelspec": {
   "display_name": "Python 3",
   "language": "python",
   "name": "python3"
  },
  "language_info": {
   "codemirror_mode": {
    "name": "ipython",
    "version": 3
   },
   "file_extension": ".py",
   "mimetype": "text/x-python",
   "name": "python",
   "nbconvert_exporter": "python",
   "pygments_lexer": "ipython3",
   "version": "3.8.5"
  },
  "nav_menu": {},
  "toc": {
   "navigate_menu": true,
   "number_sections": true,
   "sideBar": true,
   "threshold": 6,
   "toc_cell": false,
   "toc_section_display": "block",
   "toc_window_display": false
  }
 },
 "nbformat": 4,
 "nbformat_minor": 2
}
