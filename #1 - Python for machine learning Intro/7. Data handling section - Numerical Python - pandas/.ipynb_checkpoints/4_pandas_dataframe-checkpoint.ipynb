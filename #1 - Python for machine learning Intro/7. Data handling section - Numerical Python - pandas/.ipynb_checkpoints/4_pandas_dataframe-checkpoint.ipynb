{
 "cells": [
  {
   "cell_type": "code",
   "execution_count": 1,
   "metadata": {
    "ExecuteTime": {
     "end_time": "2018-02-06T12:02:40.578888Z",
     "start_time": "2018-02-06T12:02:40.148342Z"
    }
   },
   "outputs": [],
   "source": [
    "from pandas import Series, DataFrame\n",
    "import pandas as pd\n",
    "import numpy as np"
   ]
  },
  {
   "cell_type": "code",
   "execution_count": 9,
   "metadata": {
    "ExecuteTime": {
     "end_time": "2018-02-06T12:02:44.693203Z",
     "start_time": "2018-02-06T12:02:44.674582Z"
    }
   },
   "outputs": [
    {
     "data": {
      "text/html": [
       "<div>\n",
       "<style scoped>\n",
       "    .dataframe tbody tr th:only-of-type {\n",
       "        vertical-align: middle;\n",
       "    }\n",
       "\n",
       "    .dataframe tbody tr th {\n",
       "        vertical-align: top;\n",
       "    }\n",
       "\n",
       "    .dataframe thead th {\n",
       "        text-align: right;\n",
       "    }\n",
       "</style>\n",
       "<table border=\"1\" class=\"dataframe\">\n",
       "  <thead>\n",
       "    <tr style=\"text-align: right;\">\n",
       "      <th></th>\n",
       "      <th>연번</th>\n",
       "      <th>센터유형</th>\n",
       "      <th>센터명</th>\n",
       "      <th>운영기관</th>\n",
       "      <th>시설명</th>\n",
       "      <th>우편번호</th>\n",
       "      <th>주소</th>\n",
       "      <th>사무실전화번호</th>\n",
       "    </tr>\n",
       "  </thead>\n",
       "  <tbody>\n",
       "    <tr>\n",
       "      <th>0</th>\n",
       "      <td>1</td>\n",
       "      <td>중앙/권역</td>\n",
       "      <td>코로나19 중앙 예방접종센터</td>\n",
       "      <td>국립중앙의료원</td>\n",
       "      <td>국립중앙의료원 D동</td>\n",
       "      <td>4562</td>\n",
       "      <td>서울특별시 중구 을지로 39길 29</td>\n",
       "      <td>02-2260-7114</td>\n",
       "    </tr>\n",
       "    <tr>\n",
       "      <th>1</th>\n",
       "      <td>2</td>\n",
       "      <td>중앙/권역</td>\n",
       "      <td>코로나19 중부권역 예방접종센터</td>\n",
       "      <td>순천향대 천안병원</td>\n",
       "      <td>천안시 실내배드민턴장 1층</td>\n",
       "      <td>31212</td>\n",
       "      <td>충청남도 천안시 동남구 천안대로 357</td>\n",
       "      <td>NaN</td>\n",
       "    </tr>\n",
       "    <tr>\n",
       "      <th>2</th>\n",
       "      <td>3</td>\n",
       "      <td>중앙/권역</td>\n",
       "      <td>코로나19 호남권역 예방접종센터</td>\n",
       "      <td>조선대병원</td>\n",
       "      <td>조선대학교병원 의성관 5층</td>\n",
       "      <td>61452</td>\n",
       "      <td>광주광역시 동구 필문대로 365</td>\n",
       "      <td>062-220-3739</td>\n",
       "    </tr>\n",
       "    <tr>\n",
       "      <th>3</th>\n",
       "      <td>4</td>\n",
       "      <td>중앙/권역</td>\n",
       "      <td>코로나19 영남권역 예방접종센터</td>\n",
       "      <td>양산 부산대병원</td>\n",
       "      <td>양산 부산대병원 기숙사동 1층</td>\n",
       "      <td>50612</td>\n",
       "      <td>경상남도 양산시 물금읍 금오로 20</td>\n",
       "      <td>055-360-6701</td>\n",
       "    </tr>\n",
       "    <tr>\n",
       "      <th>4</th>\n",
       "      <td>5</td>\n",
       "      <td>지역</td>\n",
       "      <td>코로나19 대구광역시 중구 예방접종센터</td>\n",
       "      <td>NaN</td>\n",
       "      <td>계명대학교 대구동산병원 별관</td>\n",
       "      <td>41931</td>\n",
       "      <td>대구시 중구 달성로 56</td>\n",
       "      <td>053-661-3955</td>\n",
       "    </tr>\n",
       "    <tr>\n",
       "      <th>...</th>\n",
       "      <td>...</td>\n",
       "      <td>...</td>\n",
       "      <td>...</td>\n",
       "      <td>...</td>\n",
       "      <td>...</td>\n",
       "      <td>...</td>\n",
       "      <td>...</td>\n",
       "      <td>...</td>\n",
       "    </tr>\n",
       "    <tr>\n",
       "      <th>279</th>\n",
       "      <td>280</td>\n",
       "      <td>지역</td>\n",
       "      <td>코로나19 충청북도 청주시 흥덕구 예방접종센터</td>\n",
       "      <td>NaN</td>\n",
       "      <td>(舊)흥덕구청</td>\n",
       "      <td>28426</td>\n",
       "      <td>충청북도 청주시 흥덕구 대농로 88</td>\n",
       "      <td>043-201-0999</td>\n",
       "    </tr>\n",
       "    <tr>\n",
       "      <th>280</th>\n",
       "      <td>281</td>\n",
       "      <td>지역</td>\n",
       "      <td>코로나19 경기도 파주시 예방접종센터</td>\n",
       "      <td>NaN</td>\n",
       "      <td>운정행복센터</td>\n",
       "      <td>10894</td>\n",
       "      <td>경기도 파주시 와석순환로 415</td>\n",
       "      <td>031-940-5597</td>\n",
       "    </tr>\n",
       "    <tr>\n",
       "      <th>281</th>\n",
       "      <td>282</td>\n",
       "      <td>지역</td>\n",
       "      <td>코로나19 경기도 남양주시 예방접종센터</td>\n",
       "      <td>NaN</td>\n",
       "      <td>화도체육문화센터</td>\n",
       "      <td>12178</td>\n",
       "      <td>경기도 남양주시 화도읍 수레로 1259</td>\n",
       "      <td>031-590-2598</td>\n",
       "    </tr>\n",
       "    <tr>\n",
       "      <th>282</th>\n",
       "      <td>283</td>\n",
       "      <td>지역</td>\n",
       "      <td>코로나19 경기도 시흥시 예방접종센터</td>\n",
       "      <td>NaN</td>\n",
       "      <td>시흥국민체육센터</td>\n",
       "      <td>14976</td>\n",
       "      <td>경기도 시흥시 하중로 226</td>\n",
       "      <td>031-310-6822</td>\n",
       "    </tr>\n",
       "    <tr>\n",
       "      <th>283</th>\n",
       "      <td>284</td>\n",
       "      <td>지역</td>\n",
       "      <td>코로나19 충청남도 당진시 예방접종센터</td>\n",
       "      <td>NaN</td>\n",
       "      <td>국민체육센터</td>\n",
       "      <td>31772</td>\n",
       "      <td>충청남도 당진시 시청1로 30</td>\n",
       "      <td>041-360-6138</td>\n",
       "    </tr>\n",
       "  </tbody>\n",
       "</table>\n",
       "<p>284 rows × 8 columns</p>\n",
       "</div>"
      ],
      "text/plain": [
       "      연번   센터유형                        센터명       운영기관               시설명  \\\n",
       "0      1  중앙/권역            코로나19 중앙 예방접종센터    국립중앙의료원        국립중앙의료원 D동   \n",
       "1      2  중앙/권역          코로나19 중부권역 예방접종센터  순천향대 천안병원    천안시 실내배드민턴장 1층   \n",
       "2      3  중앙/권역          코로나19 호남권역 예방접종센터      조선대병원    조선대학교병원 의성관 5층   \n",
       "3      4  중앙/권역          코로나19 영남권역 예방접종센터   양산 부산대병원  양산 부산대병원 기숙사동 1층   \n",
       "4      5     지역      코로나19 대구광역시 중구 예방접종센터        NaN   계명대학교 대구동산병원 별관   \n",
       "..   ...    ...                        ...        ...               ...   \n",
       "279  280     지역  코로나19 충청북도 청주시 흥덕구 예방접종센터        NaN           (舊)흥덕구청   \n",
       "280  281     지역       코로나19 경기도 파주시 예방접종센터        NaN            운정행복센터   \n",
       "281  282     지역      코로나19 경기도 남양주시 예방접종센터        NaN          화도체육문화센터   \n",
       "282  283     지역       코로나19 경기도 시흥시 예방접종센터        NaN          시흥국민체육센터   \n",
       "283  284     지역      코로나19 충청남도 당진시 예방접종센터        NaN            국민체육센터   \n",
       "\n",
       "      우편번호                     주소        사무실전화번호  \n",
       "0     4562    서울특별시 중구 을지로 39길 29   02-2260-7114  \n",
       "1    31212  충청남도 천안시 동남구 천안대로 357            NaN  \n",
       "2    61452      광주광역시 동구 필문대로 365   062-220-3739  \n",
       "3    50612    경상남도 양산시 물금읍 금오로 20   055-360-6701  \n",
       "4    41931          대구시 중구 달성로 56   053-661-3955  \n",
       "..     ...                    ...            ...  \n",
       "279  28426    충청북도 청주시 흥덕구 대농로 88  043-201-0999   \n",
       "280  10894      경기도 파주시 와석순환로 415   031-940-5597  \n",
       "281  12178  경기도 남양주시 화도읍 수레로 1259   031-590-2598  \n",
       "282  14976        경기도 시흥시 하중로 226   031-310-6822  \n",
       "283  31772       충청남도 당진시 시청1로 30   041-360-6138  \n",
       "\n",
       "[284 rows x 8 columns]"
      ]
     },
     "execution_count": 9,
     "metadata": {},
     "output_type": "execute_result"
    }
   ],
   "source": [
    "# Example from - https://chrisalbon.com/python/pandas_map_values_to_values.html\n",
    "# raw_data = {'first_name': ['Jason', 'Molly', 'Tina', 'Jake', 'Amy'],\n",
    "#         'last_name': ['Miller', 'Jacobson', 'Ali', 'Milner', 'Cooze'],\n",
    "#         'age': [42, 52, 36, 24, 73],\n",
    "#         'city': ['San Francisco', 'Baltimore', 'Miami', 'Douglas', 'Boston']}\n",
    "# df = pd.DataFrame(raw_data, columns = ['first_name', 'last_name', 'age', 'city'])\n",
    "df = pd.read_csv('data.csv', encoding='cp949')\n",
    "df #처음 다섯줄 출력"
   ]
  },
  {
   "cell_type": "code",
   "execution_count": 3,
   "metadata": {
    "ExecuteTime": {
     "end_time": "2018-02-06T12:02:47.827238Z",
     "start_time": "2018-02-06T12:02:47.820023Z"
    }
   },
   "outputs": [
    {
     "data": {
      "text/html": [
       "<div>\n",
       "<style>\n",
       "    .dataframe thead tr:only-child th {\n",
       "        text-align: right;\n",
       "    }\n",
       "\n",
       "    .dataframe thead th {\n",
       "        text-align: left;\n",
       "    }\n",
       "\n",
       "    .dataframe tbody tr th {\n",
       "        vertical-align: top;\n",
       "    }\n",
       "</style>\n",
       "<table border=\"1\" class=\"dataframe\">\n",
       "  <thead>\n",
       "    <tr style=\"text-align: right;\">\n",
       "      <th></th>\n",
       "      <th>age</th>\n",
       "      <th>city</th>\n",
       "    </tr>\n",
       "  </thead>\n",
       "  <tbody>\n",
       "    <tr>\n",
       "      <th>0</th>\n",
       "      <td>42</td>\n",
       "      <td>San Francisco</td>\n",
       "    </tr>\n",
       "    <tr>\n",
       "      <th>1</th>\n",
       "      <td>52</td>\n",
       "      <td>Baltimore</td>\n",
       "    </tr>\n",
       "    <tr>\n",
       "      <th>2</th>\n",
       "      <td>36</td>\n",
       "      <td>Miami</td>\n",
       "    </tr>\n",
       "    <tr>\n",
       "      <th>3</th>\n",
       "      <td>24</td>\n",
       "      <td>Douglas</td>\n",
       "    </tr>\n",
       "    <tr>\n",
       "      <th>4</th>\n",
       "      <td>73</td>\n",
       "      <td>Boston</td>\n",
       "    </tr>\n",
       "  </tbody>\n",
       "</table>\n",
       "</div>"
      ],
      "text/plain": [
       "   age           city\n",
       "0   42  San Francisco\n",
       "1   52      Baltimore\n",
       "2   36          Miami\n",
       "3   24        Douglas\n",
       "4   73         Boston"
      ]
     },
     "execution_count": 3,
     "metadata": {},
     "output_type": "execute_result"
    }
   ],
   "source": [
    "DataFrame(raw_data, columns = [\"age\", \"city\"])"
   ]
  },
  {
   "cell_type": "code",
   "execution_count": 4,
   "metadata": {
    "ExecuteTime": {
     "end_time": "2018-02-06T12:02:50.574711Z",
     "start_time": "2018-02-06T12:02:50.564203Z"
    }
   },
   "outputs": [
    {
     "data": {
      "text/html": [
       "<div>\n",
       "<style>\n",
       "    .dataframe thead tr:only-child th {\n",
       "        text-align: right;\n",
       "    }\n",
       "\n",
       "    .dataframe thead th {\n",
       "        text-align: left;\n",
       "    }\n",
       "\n",
       "    .dataframe tbody tr th {\n",
       "        vertical-align: top;\n",
       "    }\n",
       "</style>\n",
       "<table border=\"1\" class=\"dataframe\">\n",
       "  <thead>\n",
       "    <tr style=\"text-align: right;\">\n",
       "      <th></th>\n",
       "      <th>first_name</th>\n",
       "      <th>last_name</th>\n",
       "      <th>age</th>\n",
       "      <th>city</th>\n",
       "      <th>debt</th>\n",
       "    </tr>\n",
       "  </thead>\n",
       "  <tbody>\n",
       "    <tr>\n",
       "      <th>0</th>\n",
       "      <td>Jason</td>\n",
       "      <td>Miller</td>\n",
       "      <td>42</td>\n",
       "      <td>San Francisco</td>\n",
       "      <td>NaN</td>\n",
       "    </tr>\n",
       "    <tr>\n",
       "      <th>1</th>\n",
       "      <td>Molly</td>\n",
       "      <td>Jacobson</td>\n",
       "      <td>52</td>\n",
       "      <td>Baltimore</td>\n",
       "      <td>NaN</td>\n",
       "    </tr>\n",
       "    <tr>\n",
       "      <th>2</th>\n",
       "      <td>Tina</td>\n",
       "      <td>Ali</td>\n",
       "      <td>36</td>\n",
       "      <td>Miami</td>\n",
       "      <td>NaN</td>\n",
       "    </tr>\n",
       "    <tr>\n",
       "      <th>3</th>\n",
       "      <td>Jake</td>\n",
       "      <td>Milner</td>\n",
       "      <td>24</td>\n",
       "      <td>Douglas</td>\n",
       "      <td>NaN</td>\n",
       "    </tr>\n",
       "    <tr>\n",
       "      <th>4</th>\n",
       "      <td>Amy</td>\n",
       "      <td>Cooze</td>\n",
       "      <td>73</td>\n",
       "      <td>Boston</td>\n",
       "      <td>NaN</td>\n",
       "    </tr>\n",
       "  </tbody>\n",
       "</table>\n",
       "</div>"
      ],
      "text/plain": [
       "  first_name last_name  age           city debt\n",
       "0      Jason    Miller   42  San Francisco  NaN\n",
       "1      Molly  Jacobson   52      Baltimore  NaN\n",
       "2       Tina       Ali   36          Miami  NaN\n",
       "3       Jake    Milner   24        Douglas  NaN\n",
       "4        Amy     Cooze   73         Boston  NaN"
      ]
     },
     "execution_count": 4,
     "metadata": {},
     "output_type": "execute_result"
    }
   ],
   "source": [
    "DataFrame(raw_data, \n",
    "          columns = [\"first_name\",\"last_name\",\"age\", \"city\", \"debt\"]\n",
    "         )"
   ]
  },
  {
   "cell_type": "code",
   "execution_count": 5,
   "metadata": {
    "ExecuteTime": {
     "end_time": "2018-02-06T12:02:55.049273Z",
     "start_time": "2018-02-06T12:02:55.042916Z"
    }
   },
   "outputs": [
    {
     "data": {
      "text/plain": [
       "0    Jason\n",
       "1    Molly\n",
       "2     Tina\n",
       "3     Jake\n",
       "4      Amy\n",
       "Name: first_name, dtype: object"
      ]
     },
     "execution_count": 5,
     "metadata": {},
     "output_type": "execute_result"
    }
   ],
   "source": [
    "df = DataFrame(raw_data, columns = [\"first_name\",\"last_name\",\"age\", \"city\", \"debt\"])\n",
    "df.first_name"
   ]
  },
  {
   "cell_type": "code",
   "execution_count": 6,
   "metadata": {
    "ExecuteTime": {
     "end_time": "2018-02-06T12:03:00.655595Z",
     "start_time": "2018-02-06T12:03:00.650689Z"
    }
   },
   "outputs": [
    {
     "data": {
      "text/plain": [
       "0    Jason\n",
       "1    Molly\n",
       "2     Tina\n",
       "3     Jake\n",
       "4      Amy\n",
       "Name: first_name, dtype: object"
      ]
     },
     "execution_count": 6,
     "metadata": {},
     "output_type": "execute_result"
    }
   ],
   "source": [
    "df[\"first_name\"]"
   ]
  },
  {
   "cell_type": "code",
   "execution_count": null,
   "metadata": {
    "collapsed": true
   },
   "outputs": [],
   "source": [
    "df"
   ]
  },
  {
   "cell_type": "code",
   "execution_count": 5,
   "metadata": {},
   "outputs": [
    {
     "data": {
      "text/plain": [
       "연번                             2\n",
       "센터유형                       중앙/권역\n",
       "센터명            코로나19 중부권역 예방접종센터\n",
       "운영기관                   순천향대 천안병원\n",
       "시설명               천안시 실내배드민턴장 1층\n",
       "우편번호                       31212\n",
       "주소         충청남도 천안시 동남구 천안대로 357\n",
       "사무실전화번호                      NaN\n",
       "Name: 1, dtype: object"
      ]
     },
     "execution_count": 5,
     "metadata": {},
     "output_type": "execute_result"
    }
   ],
   "source": [
    "df.loc[1]"
   ]
  },
  {
   "cell_type": "code",
   "execution_count": 6,
   "metadata": {},
   "outputs": [
    {
     "data": {
      "text/plain": [
       "1              코로나19 중부권역 예방접종센터\n",
       "2              코로나19 호남권역 예방접종센터\n",
       "3              코로나19 영남권역 예방접종센터\n",
       "4          코로나19 대구광역시 중구 예방접종센터\n",
       "5         코로나19 서울특별시 성동구 예방접종센터\n",
       "                 ...            \n",
       "279    코로나19 충청북도 청주시 흥덕구 예방접종센터\n",
       "280         코로나19 경기도 파주시 예방접종센터\n",
       "281        코로나19 경기도 남양주시 예방접종센터\n",
       "282         코로나19 경기도 시흥시 예방접종센터\n",
       "283        코로나19 충청남도 당진시 예방접종센터\n",
       "Name: 센터명, Length: 283, dtype: object"
      ]
     },
     "execution_count": 6,
     "metadata": {},
     "output_type": "execute_result"
    }
   ],
   "source": [
    "df[\"센터명\"].iloc[1:]"
   ]
  },
  {
   "cell_type": "code",
   "execution_count": 8,
   "metadata": {
    "ExecuteTime": {
     "end_time": "2018-02-06T12:05:07.988478Z",
     "start_time": "2018-02-06T12:05:07.982308Z"
    }
   },
   "outputs": [
    {
     "data": {
      "text/plain": [
       "49   NaN\n",
       "48   NaN\n",
       "47   NaN\n",
       "46   NaN\n",
       "45   NaN\n",
       "1    NaN\n",
       "2    NaN\n",
       "3    NaN\n",
       "dtype: float64"
      ]
     },
     "execution_count": 8,
     "metadata": {},
     "output_type": "execute_result"
    }
   ],
   "source": [
    "# Example from - https://stackoverflow.com/questions/31593201/pandas-iloc-vs-ix-vs-loc-explanation\n",
    "s = pd.Series(np.nan, index=[49,48,47,46,45, 1, 2, 3, 4, 5])\n",
    "s.loc[:3]"
   ]
  },
  {
   "cell_type": "code",
   "execution_count": 9,
   "metadata": {
    "ExecuteTime": {
     "end_time": "2018-02-06T12:05:47.269381Z",
     "start_time": "2018-02-06T12:05:47.264712Z"
    }
   },
   "outputs": [
    {
     "data": {
      "text/plain": [
       "49   NaN\n",
       "48   NaN\n",
       "47   NaN\n",
       "dtype: float64"
      ]
     },
     "execution_count": 9,
     "metadata": {},
     "output_type": "execute_result"
    }
   ],
   "source": [
    "s.iloc[:3]"
   ]
  },
  {
   "cell_type": "code",
   "execution_count": 16,
   "metadata": {},
   "outputs": [
    {
     "data": {
      "text/plain": [
       "0       True\n",
       "1       True\n",
       "2       True\n",
       "3       True\n",
       "4      False\n",
       "       ...  \n",
       "279    False\n",
       "280    False\n",
       "281    False\n",
       "282    False\n",
       "283    False\n",
       "Name: 센터유형, Length: 284, dtype: bool"
      ]
     },
     "execution_count": 16,
     "metadata": {},
     "output_type": "execute_result"
    }
   ],
   "source": [
    "df.센터유형 == \"중앙/권역\""
   ]
  },
  {
   "cell_type": "code",
   "execution_count": 17,
   "metadata": {},
   "outputs": [
    {
     "data": {
      "text/html": [
       "<div>\n",
       "<style scoped>\n",
       "    .dataframe tbody tr th:only-of-type {\n",
       "        vertical-align: middle;\n",
       "    }\n",
       "\n",
       "    .dataframe tbody tr th {\n",
       "        vertical-align: top;\n",
       "    }\n",
       "\n",
       "    .dataframe thead th {\n",
       "        text-align: right;\n",
       "    }\n",
       "</style>\n",
       "<table border=\"1\" class=\"dataframe\">\n",
       "  <thead>\n",
       "    <tr style=\"text-align: right;\">\n",
       "      <th></th>\n",
       "      <th>연번</th>\n",
       "      <th>센터유형</th>\n",
       "      <th>센터명</th>\n",
       "      <th>운영기관</th>\n",
       "      <th>시설명</th>\n",
       "      <th>우편번호</th>\n",
       "      <th>주소</th>\n",
       "      <th>사무실전화번호</th>\n",
       "      <th>debt</th>\n",
       "    </tr>\n",
       "  </thead>\n",
       "  <tbody>\n",
       "    <tr>\n",
       "      <th>0</th>\n",
       "      <td>1</td>\n",
       "      <td>중앙/권역</td>\n",
       "      <td>코로나19 중앙 예방접종센터</td>\n",
       "      <td>국립중앙의료원</td>\n",
       "      <td>국립중앙의료원 D동</td>\n",
       "      <td>4562</td>\n",
       "      <td>서울특별시 중구 을지로 39길 29</td>\n",
       "      <td>02-2260-7114</td>\n",
       "      <td>True</td>\n",
       "    </tr>\n",
       "    <tr>\n",
       "      <th>1</th>\n",
       "      <td>2</td>\n",
       "      <td>중앙/권역</td>\n",
       "      <td>코로나19 중부권역 예방접종센터</td>\n",
       "      <td>순천향대 천안병원</td>\n",
       "      <td>천안시 실내배드민턴장 1층</td>\n",
       "      <td>31212</td>\n",
       "      <td>충청남도 천안시 동남구 천안대로 357</td>\n",
       "      <td>NaN</td>\n",
       "      <td>True</td>\n",
       "    </tr>\n",
       "    <tr>\n",
       "      <th>2</th>\n",
       "      <td>3</td>\n",
       "      <td>중앙/권역</td>\n",
       "      <td>코로나19 호남권역 예방접종센터</td>\n",
       "      <td>조선대병원</td>\n",
       "      <td>조선대학교병원 의성관 5층</td>\n",
       "      <td>61452</td>\n",
       "      <td>광주광역시 동구 필문대로 365</td>\n",
       "      <td>062-220-3739</td>\n",
       "      <td>True</td>\n",
       "    </tr>\n",
       "    <tr>\n",
       "      <th>3</th>\n",
       "      <td>4</td>\n",
       "      <td>중앙/권역</td>\n",
       "      <td>코로나19 영남권역 예방접종센터</td>\n",
       "      <td>양산 부산대병원</td>\n",
       "      <td>양산 부산대병원 기숙사동 1층</td>\n",
       "      <td>50612</td>\n",
       "      <td>경상남도 양산시 물금읍 금오로 20</td>\n",
       "      <td>055-360-6701</td>\n",
       "      <td>True</td>\n",
       "    </tr>\n",
       "    <tr>\n",
       "      <th>4</th>\n",
       "      <td>5</td>\n",
       "      <td>지역</td>\n",
       "      <td>코로나19 대구광역시 중구 예방접종센터</td>\n",
       "      <td>NaN</td>\n",
       "      <td>계명대학교 대구동산병원 별관</td>\n",
       "      <td>41931</td>\n",
       "      <td>대구시 중구 달성로 56</td>\n",
       "      <td>053-661-3955</td>\n",
       "      <td>False</td>\n",
       "    </tr>\n",
       "    <tr>\n",
       "      <th>...</th>\n",
       "      <td>...</td>\n",
       "      <td>...</td>\n",
       "      <td>...</td>\n",
       "      <td>...</td>\n",
       "      <td>...</td>\n",
       "      <td>...</td>\n",
       "      <td>...</td>\n",
       "      <td>...</td>\n",
       "      <td>...</td>\n",
       "    </tr>\n",
       "    <tr>\n",
       "      <th>279</th>\n",
       "      <td>280</td>\n",
       "      <td>지역</td>\n",
       "      <td>코로나19 충청북도 청주시 흥덕구 예방접종센터</td>\n",
       "      <td>NaN</td>\n",
       "      <td>(舊)흥덕구청</td>\n",
       "      <td>28426</td>\n",
       "      <td>충청북도 청주시 흥덕구 대농로 88</td>\n",
       "      <td>043-201-0999</td>\n",
       "      <td>False</td>\n",
       "    </tr>\n",
       "    <tr>\n",
       "      <th>280</th>\n",
       "      <td>281</td>\n",
       "      <td>지역</td>\n",
       "      <td>코로나19 경기도 파주시 예방접종센터</td>\n",
       "      <td>NaN</td>\n",
       "      <td>운정행복센터</td>\n",
       "      <td>10894</td>\n",
       "      <td>경기도 파주시 와석순환로 415</td>\n",
       "      <td>031-940-5597</td>\n",
       "      <td>False</td>\n",
       "    </tr>\n",
       "    <tr>\n",
       "      <th>281</th>\n",
       "      <td>282</td>\n",
       "      <td>지역</td>\n",
       "      <td>코로나19 경기도 남양주시 예방접종센터</td>\n",
       "      <td>NaN</td>\n",
       "      <td>화도체육문화센터</td>\n",
       "      <td>12178</td>\n",
       "      <td>경기도 남양주시 화도읍 수레로 1259</td>\n",
       "      <td>031-590-2598</td>\n",
       "      <td>False</td>\n",
       "    </tr>\n",
       "    <tr>\n",
       "      <th>282</th>\n",
       "      <td>283</td>\n",
       "      <td>지역</td>\n",
       "      <td>코로나19 경기도 시흥시 예방접종센터</td>\n",
       "      <td>NaN</td>\n",
       "      <td>시흥국민체육센터</td>\n",
       "      <td>14976</td>\n",
       "      <td>경기도 시흥시 하중로 226</td>\n",
       "      <td>031-310-6822</td>\n",
       "      <td>False</td>\n",
       "    </tr>\n",
       "    <tr>\n",
       "      <th>283</th>\n",
       "      <td>284</td>\n",
       "      <td>지역</td>\n",
       "      <td>코로나19 충청남도 당진시 예방접종센터</td>\n",
       "      <td>NaN</td>\n",
       "      <td>국민체육센터</td>\n",
       "      <td>31772</td>\n",
       "      <td>충청남도 당진시 시청1로 30</td>\n",
       "      <td>041-360-6138</td>\n",
       "      <td>False</td>\n",
       "    </tr>\n",
       "  </tbody>\n",
       "</table>\n",
       "<p>284 rows × 9 columns</p>\n",
       "</div>"
      ],
      "text/plain": [
       "      연번   센터유형                        센터명       운영기관               시설명  \\\n",
       "0      1  중앙/권역            코로나19 중앙 예방접종센터    국립중앙의료원        국립중앙의료원 D동   \n",
       "1      2  중앙/권역          코로나19 중부권역 예방접종센터  순천향대 천안병원    천안시 실내배드민턴장 1층   \n",
       "2      3  중앙/권역          코로나19 호남권역 예방접종센터      조선대병원    조선대학교병원 의성관 5층   \n",
       "3      4  중앙/권역          코로나19 영남권역 예방접종센터   양산 부산대병원  양산 부산대병원 기숙사동 1층   \n",
       "4      5     지역      코로나19 대구광역시 중구 예방접종센터        NaN   계명대학교 대구동산병원 별관   \n",
       "..   ...    ...                        ...        ...               ...   \n",
       "279  280     지역  코로나19 충청북도 청주시 흥덕구 예방접종센터        NaN           (舊)흥덕구청   \n",
       "280  281     지역       코로나19 경기도 파주시 예방접종센터        NaN            운정행복센터   \n",
       "281  282     지역      코로나19 경기도 남양주시 예방접종센터        NaN          화도체육문화센터   \n",
       "282  283     지역       코로나19 경기도 시흥시 예방접종센터        NaN          시흥국민체육센터   \n",
       "283  284     지역      코로나19 충청남도 당진시 예방접종센터        NaN            국민체육센터   \n",
       "\n",
       "      우편번호                     주소        사무실전화번호   debt  \n",
       "0     4562    서울특별시 중구 을지로 39길 29   02-2260-7114   True  \n",
       "1    31212  충청남도 천안시 동남구 천안대로 357            NaN   True  \n",
       "2    61452      광주광역시 동구 필문대로 365   062-220-3739   True  \n",
       "3    50612    경상남도 양산시 물금읍 금오로 20   055-360-6701   True  \n",
       "4    41931          대구시 중구 달성로 56   053-661-3955  False  \n",
       "..     ...                    ...            ...    ...  \n",
       "279  28426    충청북도 청주시 흥덕구 대농로 88  043-201-0999   False  \n",
       "280  10894      경기도 파주시 와석순환로 415   031-940-5597  False  \n",
       "281  12178  경기도 남양주시 화도읍 수레로 1259   031-590-2598  False  \n",
       "282  14976        경기도 시흥시 하중로 226   031-310-6822  False  \n",
       "283  31772       충청남도 당진시 시청1로 30   041-360-6138  False  \n",
       "\n",
       "[284 rows x 9 columns]"
      ]
     },
     "execution_count": 17,
     "metadata": {},
     "output_type": "execute_result"
    }
   ],
   "source": [
    "df[\"debt\"] = df[\"센터유형\"] == \"중앙/권역\"\n",
    "df"
   ]
  },
  {
   "cell_type": "code",
   "execution_count": 15,
   "metadata": {},
   "outputs": [
    {
     "data": {
      "text/plain": [
       "0    M\n",
       "1    F\n",
       "3    F\n",
       "dtype: object"
      ]
     },
     "execution_count": 15,
     "metadata": {},
     "output_type": "execute_result"
    }
   ],
   "source": [
    "values = Series(data=[\"M\",\"F\",\"F\"],index=[0,1,3])\n",
    "values"
   ]
  },
  {
   "cell_type": "code",
   "execution_count": 16,
   "metadata": {},
   "outputs": [
    {
     "data": {
      "text/html": [
       "<div>\n",
       "<style scoped>\n",
       "    .dataframe tbody tr th:only-of-type {\n",
       "        vertical-align: middle;\n",
       "    }\n",
       "\n",
       "    .dataframe tbody tr th {\n",
       "        vertical-align: top;\n",
       "    }\n",
       "\n",
       "    .dataframe thead th {\n",
       "        text-align: right;\n",
       "    }\n",
       "</style>\n",
       "<table border=\"1\" class=\"dataframe\">\n",
       "  <thead>\n",
       "    <tr style=\"text-align: right;\">\n",
       "      <th></th>\n",
       "      <th>first_name</th>\n",
       "      <th>last_name</th>\n",
       "      <th>age</th>\n",
       "      <th>city</th>\n",
       "      <th>debt</th>\n",
       "      <th>sex</th>\n",
       "    </tr>\n",
       "  </thead>\n",
       "  <tbody>\n",
       "    <tr>\n",
       "      <th>0</th>\n",
       "      <td>Jason</td>\n",
       "      <td>Miller</td>\n",
       "      <td>42</td>\n",
       "      <td>San Francisco</td>\n",
       "      <td>True</td>\n",
       "      <td>M</td>\n",
       "    </tr>\n",
       "    <tr>\n",
       "      <th>1</th>\n",
       "      <td>Molly</td>\n",
       "      <td>Jacobson</td>\n",
       "      <td>52</td>\n",
       "      <td>Baltimore</td>\n",
       "      <td>True</td>\n",
       "      <td>F</td>\n",
       "    </tr>\n",
       "    <tr>\n",
       "      <th>2</th>\n",
       "      <td>Tina</td>\n",
       "      <td>Ali</td>\n",
       "      <td>36</td>\n",
       "      <td>Miami</td>\n",
       "      <td>False</td>\n",
       "      <td>NaN</td>\n",
       "    </tr>\n",
       "    <tr>\n",
       "      <th>3</th>\n",
       "      <td>Jake</td>\n",
       "      <td>Milner</td>\n",
       "      <td>24</td>\n",
       "      <td>Douglas</td>\n",
       "      <td>False</td>\n",
       "      <td>F</td>\n",
       "    </tr>\n",
       "    <tr>\n",
       "      <th>4</th>\n",
       "      <td>Amy</td>\n",
       "      <td>Cooze</td>\n",
       "      <td>73</td>\n",
       "      <td>Boston</td>\n",
       "      <td>True</td>\n",
       "      <td>NaN</td>\n",
       "    </tr>\n",
       "  </tbody>\n",
       "</table>\n",
       "</div>"
      ],
      "text/plain": [
       "  first_name last_name  age           city   debt  sex\n",
       "0      Jason    Miller   42  San Francisco   True    M\n",
       "1      Molly  Jacobson   52      Baltimore   True    F\n",
       "2       Tina       Ali   36          Miami  False  NaN\n",
       "3       Jake    Milner   24        Douglas  False    F\n",
       "4        Amy     Cooze   73         Boston   True  NaN"
      ]
     },
     "execution_count": 16,
     "metadata": {},
     "output_type": "execute_result"
    }
   ],
   "source": [
    "df[\"sex\"] = values\n",
    "df"
   ]
  },
  {
   "cell_type": "code",
   "execution_count": 17,
   "metadata": {},
   "outputs": [
    {
     "data": {
      "text/html": [
       "<div>\n",
       "<style scoped>\n",
       "    .dataframe tbody tr th:only-of-type {\n",
       "        vertical-align: middle;\n",
       "    }\n",
       "\n",
       "    .dataframe tbody tr th {\n",
       "        vertical-align: top;\n",
       "    }\n",
       "\n",
       "    .dataframe thead th {\n",
       "        text-align: right;\n",
       "    }\n",
       "</style>\n",
       "<table border=\"1\" class=\"dataframe\">\n",
       "  <thead>\n",
       "    <tr style=\"text-align: right;\">\n",
       "      <th></th>\n",
       "      <th>0</th>\n",
       "      <th>1</th>\n",
       "      <th>2</th>\n",
       "      <th>3</th>\n",
       "      <th>4</th>\n",
       "    </tr>\n",
       "  </thead>\n",
       "  <tbody>\n",
       "    <tr>\n",
       "      <th>first_name</th>\n",
       "      <td>Jason</td>\n",
       "      <td>Molly</td>\n",
       "      <td>Tina</td>\n",
       "      <td>Jake</td>\n",
       "      <td>Amy</td>\n",
       "    </tr>\n",
       "    <tr>\n",
       "      <th>last_name</th>\n",
       "      <td>Miller</td>\n",
       "      <td>Jacobson</td>\n",
       "      <td>Ali</td>\n",
       "      <td>Milner</td>\n",
       "      <td>Cooze</td>\n",
       "    </tr>\n",
       "    <tr>\n",
       "      <th>age</th>\n",
       "      <td>42</td>\n",
       "      <td>52</td>\n",
       "      <td>36</td>\n",
       "      <td>24</td>\n",
       "      <td>73</td>\n",
       "    </tr>\n",
       "    <tr>\n",
       "      <th>city</th>\n",
       "      <td>San Francisco</td>\n",
       "      <td>Baltimore</td>\n",
       "      <td>Miami</td>\n",
       "      <td>Douglas</td>\n",
       "      <td>Boston</td>\n",
       "    </tr>\n",
       "    <tr>\n",
       "      <th>debt</th>\n",
       "      <td>True</td>\n",
       "      <td>True</td>\n",
       "      <td>False</td>\n",
       "      <td>False</td>\n",
       "      <td>True</td>\n",
       "    </tr>\n",
       "    <tr>\n",
       "      <th>sex</th>\n",
       "      <td>M</td>\n",
       "      <td>F</td>\n",
       "      <td>NaN</td>\n",
       "      <td>F</td>\n",
       "      <td>NaN</td>\n",
       "    </tr>\n",
       "  </tbody>\n",
       "</table>\n",
       "</div>"
      ],
      "text/plain": [
       "                        0          1      2        3       4\n",
       "first_name          Jason      Molly   Tina     Jake     Amy\n",
       "last_name          Miller   Jacobson    Ali   Milner   Cooze\n",
       "age                    42         52     36       24      73\n",
       "city        San Francisco  Baltimore  Miami  Douglas  Boston\n",
       "debt                 True       True  False    False    True\n",
       "sex                     M          F    NaN        F     NaN"
      ]
     },
     "execution_count": 17,
     "metadata": {},
     "output_type": "execute_result"
    }
   ],
   "source": [
    "df.T"
   ]
  },
  {
   "cell_type": "code",
   "execution_count": 18,
   "metadata": {},
   "outputs": [
    {
     "data": {
      "text/plain": [
       "array([['Jason', 'Miller', 42, 'San Francisco', True, 'M'],\n",
       "       ['Molly', 'Jacobson', 52, 'Baltimore', True, 'F'],\n",
       "       ['Tina', 'Ali', 36, 'Miami', False, nan],\n",
       "       ['Jake', 'Milner', 24, 'Douglas', False, 'F'],\n",
       "       ['Amy', 'Cooze', 73, 'Boston', True, nan]], dtype=object)"
      ]
     },
     "execution_count": 18,
     "metadata": {},
     "output_type": "execute_result"
    }
   ],
   "source": [
    "df.values"
   ]
  },
  {
   "cell_type": "code",
   "execution_count": 19,
   "metadata": {},
   "outputs": [
    {
     "data": {
      "text/plain": [
       "',first_name,last_name,age,city,debt,sex\\n0,Jason,Miller,42,San Francisco,True,M\\n1,Molly,Jacobson,52,Baltimore,True,F\\n2,Tina,Ali,36,Miami,False,\\n3,Jake,Milner,24,Douglas,False,F\\n4,Amy,Cooze,73,Boston,True,\\n'"
      ]
     },
     "execution_count": 19,
     "metadata": {},
     "output_type": "execute_result"
    }
   ],
   "source": [
    "df.to_csv()"
   ]
  },
  {
   "cell_type": "code",
   "execution_count": null,
   "metadata": {
    "collapsed": true
   },
   "outputs": [],
   "source": [
    "del df[\"debt\"]"
   ]
  },
  {
   "cell_type": "code",
   "execution_count": null,
   "metadata": {
    "collapsed": true
   },
   "outputs": [],
   "source": [
    "df"
   ]
  },
  {
   "cell_type": "code",
   "execution_count": null,
   "metadata": {
    "collapsed": true
   },
   "outputs": [],
   "source": [
    "# Example from Python for data analyis\n",
    "\n",
    "pop = {'Nevada': {2001: 2.4, 2002: 2.9},\n",
    " 'Ohio': {2000: 1.5, 2001: 1.7, 2002: 3.6}}\n",
    "\n",
    "DataFrame(pop)"
   ]
  }
 ],
 "metadata": {
  "kernelspec": {
   "display_name": "Python 3",
   "language": "python",
   "name": "python3"
  },
  "language_info": {
   "codemirror_mode": {
    "name": "ipython",
    "version": 3
   },
   "file_extension": ".py",
   "mimetype": "text/x-python",
   "name": "python",
   "nbconvert_exporter": "python",
   "pygments_lexer": "ipython3",
   "version": "3.8.5"
  },
  "nav_menu": {},
  "toc": {
   "navigate_menu": true,
   "number_sections": true,
   "sideBar": true,
   "threshold": 6,
   "toc_cell": false,
   "toc_section_display": "block",
   "toc_window_display": false
  }
 },
 "nbformat": 4,
 "nbformat_minor": 2
}
