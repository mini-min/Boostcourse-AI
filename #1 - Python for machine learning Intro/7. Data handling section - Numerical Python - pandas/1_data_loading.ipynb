{
 "cells": [
  {
   "cell_type": "code",
   "execution_count": 6,
   "metadata": {
    "ExecuteTime": {
     "end_time": "2018-02-06T11:52:06.567374Z",
     "start_time": "2018-02-06T11:52:05.910995Z"
    },
    "scrolled": false
   },
   "outputs": [],
   "source": [
    "import pandas as pd #라이브러리 호출"
   ]
  },
  {
   "cell_type": "code",
   "execution_count": 13,
   "metadata": {
    "ExecuteTime": {
     "end_time": "2018-02-06T11:53:37.369556Z",
     "start_time": "2018-02-06T11:53:36.277692Z"
    },
    "scrolled": false
   },
   "outputs": [
    {
     "data": {
      "text/html": [
       "<div>\n",
       "<style scoped>\n",
       "    .dataframe tbody tr th:only-of-type {\n",
       "        vertical-align: middle;\n",
       "    }\n",
       "\n",
       "    .dataframe tbody tr th {\n",
       "        vertical-align: top;\n",
       "    }\n",
       "\n",
       "    .dataframe thead th {\n",
       "        text-align: right;\n",
       "    }\n",
       "</style>\n",
       "<table border=\"1\" class=\"dataframe\">\n",
       "  <thead>\n",
       "    <tr style=\"text-align: right;\">\n",
       "      <th></th>\n",
       "      <th>연번</th>\n",
       "      <th>센터유형</th>\n",
       "      <th>센터명</th>\n",
       "      <th>운영기관</th>\n",
       "      <th>시설명</th>\n",
       "      <th>우편번호</th>\n",
       "      <th>주소</th>\n",
       "      <th>사무실전화번호</th>\n",
       "    </tr>\n",
       "  </thead>\n",
       "  <tbody>\n",
       "    <tr>\n",
       "      <th>0</th>\n",
       "      <td>1</td>\n",
       "      <td>중앙/권역</td>\n",
       "      <td>코로나19 중앙 예방접종센터</td>\n",
       "      <td>국립중앙의료원</td>\n",
       "      <td>국립중앙의료원 D동</td>\n",
       "      <td>4562</td>\n",
       "      <td>서울특별시 중구 을지로 39길 29</td>\n",
       "      <td>02-2260-7114</td>\n",
       "    </tr>\n",
       "    <tr>\n",
       "      <th>1</th>\n",
       "      <td>2</td>\n",
       "      <td>중앙/권역</td>\n",
       "      <td>코로나19 중부권역 예방접종센터</td>\n",
       "      <td>순천향대 천안병원</td>\n",
       "      <td>천안시 실내배드민턴장 1층</td>\n",
       "      <td>31212</td>\n",
       "      <td>충청남도 천안시 동남구 천안대로 357</td>\n",
       "      <td>NaN</td>\n",
       "    </tr>\n",
       "    <tr>\n",
       "      <th>2</th>\n",
       "      <td>3</td>\n",
       "      <td>중앙/권역</td>\n",
       "      <td>코로나19 호남권역 예방접종센터</td>\n",
       "      <td>조선대병원</td>\n",
       "      <td>조선대학교병원 의성관 5층</td>\n",
       "      <td>61452</td>\n",
       "      <td>광주광역시 동구 필문대로 365</td>\n",
       "      <td>062-220-3739</td>\n",
       "    </tr>\n",
       "    <tr>\n",
       "      <th>3</th>\n",
       "      <td>4</td>\n",
       "      <td>중앙/권역</td>\n",
       "      <td>코로나19 영남권역 예방접종센터</td>\n",
       "      <td>양산 부산대병원</td>\n",
       "      <td>양산 부산대병원 기숙사동 1층</td>\n",
       "      <td>50612</td>\n",
       "      <td>경상남도 양산시 물금읍 금오로 20</td>\n",
       "      <td>055-360-6701</td>\n",
       "    </tr>\n",
       "    <tr>\n",
       "      <th>4</th>\n",
       "      <td>5</td>\n",
       "      <td>지역</td>\n",
       "      <td>코로나19 대구광역시 중구 예방접종센터</td>\n",
       "      <td>NaN</td>\n",
       "      <td>계명대학교 대구동산병원 별관</td>\n",
       "      <td>41931</td>\n",
       "      <td>대구시 중구 달성로 56</td>\n",
       "      <td>053-661-3955</td>\n",
       "    </tr>\n",
       "  </tbody>\n",
       "</table>\n",
       "</div>"
      ],
      "text/plain": [
       "   연번   센터유형                    센터명       운영기관               시설명   우편번호  \\\n",
       "0   1  중앙/권역        코로나19 중앙 예방접종센터    국립중앙의료원        국립중앙의료원 D동   4562   \n",
       "1   2  중앙/권역      코로나19 중부권역 예방접종센터  순천향대 천안병원    천안시 실내배드민턴장 1층  31212   \n",
       "2   3  중앙/권역      코로나19 호남권역 예방접종센터      조선대병원    조선대학교병원 의성관 5층  61452   \n",
       "3   4  중앙/권역      코로나19 영남권역 예방접종센터   양산 부산대병원  양산 부산대병원 기숙사동 1층  50612   \n",
       "4   5     지역  코로나19 대구광역시 중구 예방접종센터        NaN   계명대학교 대구동산병원 별관  41931   \n",
       "\n",
       "                      주소       사무실전화번호  \n",
       "0    서울특별시 중구 을지로 39길 29  02-2260-7114  \n",
       "1  충청남도 천안시 동남구 천안대로 357           NaN  \n",
       "2      광주광역시 동구 필문대로 365  062-220-3739  \n",
       "3    경상남도 양산시 물금읍 금오로 20  055-360-6701  \n",
       "4          대구시 중구 달성로 56  053-661-3955  "
      ]
     },
     "execution_count": 13,
     "metadata": {},
     "output_type": "execute_result"
    }
   ],
   "source": [
    "df_data = pd.read_csv('data.csv', encoding='cp949')\n",
    "df_data.head() #처음 다섯줄 출력"
   ]
  },
  {
   "cell_type": "code",
   "execution_count": 24,
   "metadata": {
    "ExecuteTime": {
     "end_time": "2018-02-06T11:53:55.095224Z",
     "start_time": "2018-02-06T11:53:55.071166Z"
    },
    "scrolled": false
   },
   "outputs": [
    {
     "ename": "IndentationError",
     "evalue": "unexpected indent (<ipython-input-24-cd4510527163>, line 2)",
     "output_type": "error",
     "traceback": [
      "\u001b[0;36m  File \u001b[0;32m\"<ipython-input-24-cd4510527163>\"\u001b[0;36m, line \u001b[0;32m2\u001b[0m\n\u001b[0;31m    'CRIM','ZN', 'INDUS', 'CHAS', 'NOX', 'RM', 'AGE', 'DIS', 'RAD', 'TAX', 'PTRATIO' ,'B', 'LSTAT', 'MEDV']\u001b[0m\n\u001b[0m    ^\u001b[0m\n\u001b[0;31mIndentationError\u001b[0m\u001b[0;31m:\u001b[0m unexpected indent\n"
     ]
    }
   ],
   "source": [
    "# df_data.columns = [\n",
    "    'CRIM','ZN', 'INDUS', 'CHAS', 'NOX', 'RM', 'AGE', 'DIS', 'RAD', 'TAX', 'PTRATIO' ,'B', 'LSTAT', 'MEDV'] \n",
    "# Column Header 이름 지정\n",
    "df_data.head()"
   ]
  },
  {
   "cell_type": "code",
   "execution_count": 14,
   "metadata": {
    "ExecuteTime": {
     "end_time": "2018-02-06T11:54:25.086769Z",
     "start_time": "2018-02-06T11:54:25.082610Z"
    }
   },
   "outputs": [
    {
     "data": {
      "text/plain": [
       "numpy.ndarray"
      ]
     },
     "execution_count": 14,
     "metadata": {},
     "output_type": "execute_result"
    }
   ],
   "source": [
    "type(df_data.values)"
   ]
  }
 ],
 "metadata": {
  "anaconda-cloud": {},
  "kernelspec": {
   "display_name": "Python 3",
   "language": "python",
   "name": "python3"
  },
  "language_info": {
   "codemirror_mode": {
    "name": "ipython",
    "version": 3
   },
   "file_extension": ".py",
   "mimetype": "text/x-python",
   "name": "python",
   "nbconvert_exporter": "python",
   "pygments_lexer": "ipython3",
   "version": "3.8.5"
  },
  "nav_menu": {},
  "toc": {
   "navigate_menu": true,
   "number_sections": true,
   "sideBar": true,
   "threshold": 6,
   "toc_cell": false,
   "toc_section_display": "block",
   "toc_window_display": false
  }
 },
 "nbformat": 4,
 "nbformat_minor": 1
}
