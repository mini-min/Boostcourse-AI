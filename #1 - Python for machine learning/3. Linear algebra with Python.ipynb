{
 "cells": [
  {
   "cell_type": "markdown",
   "metadata": {},
   "source": [
    "# 선형대수를 파이썬으로 구현해보기"
   ]
  },
  {
   "cell_type": "markdown",
   "metadata": {},
   "source": [
    "이제 앞에서 배운 모든 내용들을 종합해서, 선형대수의 기본 내용을 코드로 구현해보는 연습을 해보자.  \n",
    "``List`` 타입, ``Tuple`` 타입, ``Dictionary`` 타입까지 벡터를 표현하는 다양한 방법이 있을 수 있겠지만, 나는 부스트코스에서 다루는 내용대로 ``List`` 타입을 사용해서 벡터를 표현해보려 한다.  \n",
    "절대적인 정답은 아니지만, 가장 기본적인 방법이 List 타입이니 천천히 코드를 따라가면서 익혀보도록 하자."
   ]
  },
  {
   "cell_type": "markdown",
   "metadata": {},
   "source": [
    "## 1. Vector product(벡터의 덧셈)"
   ]
  },
  {
   "cell_type": "markdown",
   "metadata": {},
   "source": [
    "가장 기본적인 덧셈부터 알아보자.  \n",
    "덧셈은 아주 간단하게, 각 위치에 맞는 벡터 element끼리 더해주기만 하면 되니 쉽게 코드를 짤 수 있을 거다.  \n",
    "벡터에서는 **같은 위치**라는 개념이 굉장히 많이 나오게 된다. 이때, 앞에서 배운 두 개 이상의 List 값을 병렬적으로 추출하는 방법 ``zip``함수를 많이 활용하게 될 거다. <br>\n",
    "\n",
    "```python\n",
    "[2, 2] + [2, 3] + [3, 5] = [7, 10]\n",
    "```"
   ]
  },
  {
   "cell_type": "code",
   "execution_count": 4,
   "metadata": {},
   "outputs": [
    {
     "name": "stdout",
     "output_type": "stream",
     "text": [
      "[7, 10]\n"
     ]
    }
   ],
   "source": [
    "u = [2, 2]\n",
    "v = [2, 3]\n",
    "z = [3, 5]\n",
    "\n",
    "result = [sum(t) for t in zip(u, v, z)]\n",
    "print(result)"
   ]
  },
  {
   "cell_type": "markdown",
   "metadata": {},
   "source": [
    "## 2. Scalar-Vector product(알파값을 포함한 벡터의 덧셈)"
   ]
  },
  {
   "cell_type": "markdown",
   "metadata": {},
   "source": [
    "위 덧셈에 알파값(스칼라)만 추가해보자.  \n",
    "그냥 최종 sum을 해준 값 각각에다가 alpha값만 추가해주면 어렵지 않게 구현할 수 있을거다.<br>\n",
    "\n",
    "```python\n",
    "2([1, 2, 3] + [4, 4, 4] = 2[5, 6, 7] = [10, 12, 14]\n",
    "```"
   ]
  },
  {
   "cell_type": "code",
   "execution_count": 5,
   "metadata": {},
   "outputs": [
    {
     "name": "stdout",
     "output_type": "stream",
     "text": [
      "[10, 12, 14]\n"
     ]
    }
   ],
   "source": [
    "u = [1, 2, 3]\n",
    "v = [4, 4, 4]\n",
    "alpha = 2\n",
    "\n",
    "result = [alpha * sum(t) for t in zip(u, v)]\n",
    "print(result)"
   ]
  },
  {
   "cell_type": "markdown",
   "metadata": {},
   "source": [
    "## 3. Matrix addition(행렬의 덧셈)"
   ]
  },
  {
   "cell_type": "markdown",
   "metadata": {},
   "source": [
    "벡터가 행렬로 바뀌면 어떻게 될까?    \n",
    "마찬가지다. List를 다차원으로 사용해주면 될 거고, List 값을 병렬적으로 추출하기 위해 ``zip``함수를 같이 활용해주면 된다.  \n",
    "대신, 다차원이라는 점 때문에 ``Asterisk(*)`` 연산자를 사용해서 Unpacking을 해주는 경우를 추가로 생각해주면 된다."
   ]
  },
  {
   "cell_type": "code",
   "execution_count": 7,
   "metadata": {},
   "outputs": [
    {
     "name": "stdout",
     "output_type": "stream",
     "text": [
      "[[8, 14], [10, 12]]\n"
     ]
    }
   ],
   "source": [
    "matrix_a = [[3, 6], [4, 5]]\n",
    "matrix_b = [[5, 8], [6, 7]]\n",
    "result = [[sum(row) for row in zip(*t)] for t in zip(matrix_a, matrix_b)]\n",
    "print(result)"
   ]
  },
  {
   "cell_type": "markdown",
   "metadata": {},
   "source": [
    "## 4. Scalar-Matrix Product(알파값을 포함한 행렬의 덧셈)"
   ]
  },
  {
   "cell_type": "markdown",
   "metadata": {},
   "source": [
    "마찬가지다. 위 덧셈에 알파값(스칼라)만 추가해보자.  \n",
    "벡터와 덧셈과 마찬가지로, 최종 sum을 해준 값 각각에다가 alpha값만 추가해주면 어렵지 않게 구현할 수 있을거다."
   ]
  },
  {
   "cell_type": "code",
   "execution_count": 10,
   "metadata": {},
   "outputs": [
    {
     "name": "stdout",
     "output_type": "stream",
     "text": [
      "[[6, 12], [8, 10]]\n"
     ]
    }
   ],
   "source": [
    "matrix_a = [[3, 6], [4, 5]]\n",
    "alpha = 2\n",
    "result = [[alpha * element for element in t] for t in matrix_a]\n",
    "print(result)"
   ]
  },
  {
   "cell_type": "markdown",
   "metadata": {},
   "source": [
    "## 5. Matrix Transpose(전치 행렬)"
   ]
  },
  {
   "cell_type": "code",
   "execution_count": 11,
   "metadata": {},
   "outputs": [
    {
     "name": "stdout",
     "output_type": "stream",
     "text": [
      "[[1, 4], [2, 5], [3, 6]]\n"
     ]
    }
   ],
   "source": [
    "matrix_a = [[1, 2, 3], [4, 5, 6]]\n",
    "result = [[element for element in t] for t in zip(*matrix_a)]\n",
    "print(result)"
   ]
  },
  {
   "cell_type": "markdown",
   "metadata": {},
   "source": [
    "## 6. Matrix Product(행렬의 곱셈)"
   ]
  },
  {
   "cell_type": "markdown",
   "metadata": {},
   "source": [
    "곱셈은 조금 고민을 해봐야 한다.  \n",
    "기존에 사용했던 ``zip``함수와 ``Asterisk(*)`` 연산자를 적재적소에 사용하며 구현해보자.  \n",
    "행렬의 곱셈이 헷갈릴 수도 있으니, 구체적인 수식은 아래 첨부하도록 하겠다. <br>\n",
    "\n",
    "```python\n",
    "A = [[1, 1, 2], [2, 1, 1]]\n",
    "B = [[1, 1], [2, 1], [1, 3]]\n",
    "C = A x B = [[1x1 + 1x2 + 2x1, 1x1 + 1x1 + 2x3], [2x1 + 1x2 + 1x1, 2x1 + 1x1 + 1x3]]\n",
    "```"
   ]
  },
  {
   "cell_type": "code",
   "execution_count": 12,
   "metadata": {},
   "outputs": [
    {
     "name": "stdout",
     "output_type": "stream",
     "text": [
      "[[5, 8], [5, 6]]\n"
     ]
    }
   ],
   "source": [
    "matrix_a = [[1, 1, 2], [2, 1, 1]]\n",
    "matrix_b = [[1, 1], [2, 1], [1, 3]]\n",
    "result = [[sum(a * b for a, b in zip(row_a, column_b)) for column_b in zip(*matrix_b)] for row_a in matrix_a]\n",
    "print(result)"
   ]
  }
 ],
 "metadata": {
  "kernelspec": {
   "display_name": "Python 3",
   "language": "python",
   "name": "python3"
  },
  "language_info": {
   "codemirror_mode": {
    "name": "ipython",
    "version": 3
   },
   "file_extension": ".py",
   "mimetype": "text/x-python",
   "name": "python",
   "nbconvert_exporter": "python",
   "pygments_lexer": "ipython3",
   "version": "3.8.5"
  }
 },
 "nbformat": 4,
 "nbformat_minor": 4
}
