{
 "cells": [
  {
   "cell_type": "markdown",
   "metadata": {},
   "source": [
    "# 1. Overview"
   ]
  },
  {
   "cell_type": "markdown",
   "metadata": {},
   "source": [
    "개발자라면, 빠질 수 없이 공부를 해야되는 부분이 클린 코드와 관련된 점이다.  \n",
    "이 클린 코드 관점에서 파이썬이라는 프로그래밍 언어는 굉장히 독특한 점을 갖고 있는데, 그것은 **파이썬스러움**이라는 단어를 보면 알 수 있다.  \n",
    "Pythonic이라 불리는 파이썬의 클린코드는 **파이썬의 기능을 최대한 활용해서 코드를 짜는 것을 의미**한다.  \n",
    "<br>\n",
    "사실 좋은코드란 개념이 명확하게 딱 이거다 정해져있는 것은 아니다.  \n",
    "코드의 본질은 프로그램이 잘 동작하는 것이다. 하지만, 여기에 본인을 포함한 다른 개발자가 읽기 쉽고, 유지보수까지 쉽다면, 가장 좋지 않겠는가.  \n",
    "이처럼 코드의 가독성과 일관성을 위해 우리는 파이썬스럽게(Pythonic) 코딩을 할 필요가 있다.  \n",
    "게다가 이 파이썬스러운 코드는 이미, 나보다 훌륭한 파이썬 프로그래머들이 정해놓은 스타일이니까...이걸 따라서 나쁠건 없지 않나....?"
   ]
  },
  {
   "cell_type": "markdown",
   "metadata": {},
   "source": [
    "### 파이썬 일반 코드와 파이썬스러운(Pythonic) 코드의 비교"
   ]
  },
  {
   "cell_type": "markdown",
   "metadata": {},
   "source": [
    "가장 기초적인 ``for문``을 통해 일반 파이썬 코드와, 파이썬스러운 코드를 직관적으로 비교해보자.\n",
    "\n",
    "- colors에는 여러 색을 String형태로 담아준다.\n",
    "- 빈 문자열 result를 생성해주고, colors를 반복시키면서 result에 계속 문자열을 더해준다.\n",
    "\n",
    "언뜻봐도 파이썬스러운 코드가 훨씬 간결하고, 직관적이라는 것을 알 수 있다.\n",
    "(그리고 뭔가 있어보이지 않는가 ^_^)\n",
    "아무튼 이제 이 파이썬스러운 코드를 어떻게써야 하는지 하나씩 알아가보도록 하자"
   ]
  },
  {
   "cell_type": "code",
   "execution_count": 7,
   "metadata": {},
   "outputs": [
    {
     "name": "stdout",
     "output_type": "stream",
     "text": [
      "redbluegreenyellow\n"
     ]
    }
   ],
   "source": [
    "# 일반 파이썬 코드\n",
    "\n",
    "colors = [\"red\", \"blue\", \"green\", \"yellow\"]\n",
    "result = \"\"\n",
    "\n",
    "for s in colors:\n",
    "    result += s\n",
    "\n",
    "print(result)"
   ]
  },
  {
   "cell_type": "code",
   "execution_count": 6,
   "metadata": {},
   "outputs": [
    {
     "name": "stdout",
     "output_type": "stream",
     "text": [
      "redbluegreenyellow\n"
     ]
    }
   ],
   "source": [
    "# 파이썬스러운 코드\n",
    "\n",
    "colors = [\"red\", \"blue\", \"green\", \"yellow\"]\n",
    "result = \"\".join(colors)\n",
    "\n",
    "print(result)"
   ]
  },
  {
   "cell_type": "code",
   "execution_count": null,
   "metadata": {},
   "outputs": [],
   "source": []
  }
 ],
 "metadata": {
  "kernelspec": {
   "display_name": "Python 3",
   "language": "python",
   "name": "python3"
  },
  "language_info": {
   "codemirror_mode": {
    "name": "ipython",
    "version": 3
   },
   "file_extension": ".py",
   "mimetype": "text/x-python",
   "name": "python",
   "nbconvert_exporter": "python",
   "pygments_lexer": "ipython3",
   "version": "3.8.5"
  }
 },
 "nbformat": 4,
 "nbformat_minor": 4
}
