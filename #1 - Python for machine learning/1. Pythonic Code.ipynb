{
 "cells": [
  {
   "cell_type": "markdown",
   "metadata": {},
   "source": [
    "# 1. Overview"
   ]
  },
  {
   "cell_type": "markdown",
   "metadata": {},
   "source": [
    "개발자라면, 빠질 수 없이 공부를 해야되는 부분이 클린 코드와 관련된 점이다.  \n",
    "이 클린 코드 관점에서 파이썬이라는 프로그래밍 언어는 굉장히 독특한 점을 갖고 있는데, 그것은 **파이썬스러움**이라는 단어를 보면 알 수 있다.  \n",
    "Pythonic이라 불리는 파이썬의 클린코드는 **파이썬의 기능을 최대한 활용해서 코드를 짜는 것을 의미**한다.  \n",
    "<br>\n",
    "사실 좋은코드란 개념이 명확하게 딱 이거다 정해져있는 것은 아니다.  \n",
    "코드의 본질은 프로그램이 잘 동작하는 것이다. 하지만, 여기에 본인을 포함한 다른 개발자가 읽기 쉽고, 유지보수까지 쉽다면, 가장 좋지 않겠는가.  \n",
    "이처럼 코드의 가독성과 일관성을 위해 우리는 파이썬스럽게(Pythonic) 코딩을 할 필요가 있다.  \n",
    "게다가 이 파이썬스러운 코드는 이미, 나보다 훌륭한 파이썬 프로그래머들이 정해놓은 스타일이니까...이걸 따라서 나쁠건 없지 않나....?"
   ]
  },
  {
   "cell_type": "markdown",
   "metadata": {},
   "source": [
    "### 파이썬 일반 코드와 파이썬스러운(Pythonic) 코드의 비교"
   ]
  },
  {
   "cell_type": "markdown",
   "metadata": {},
   "source": [
    "가장 기초적인 ``for문``을 통해 일반 파이썬 코드와, 파이썬스러운 코드를 직관적으로 비교해보자.\n",
    "\n",
    "- colors에는 여러 색을 String형태로 담아준다.\n",
    "- 빈 문자열 result를 생성해주고, colors를 반복시키면서 result에 계속 문자열을 더해준다.\n",
    "\n",
    "언뜻봐도 파이썬스러운 코드가 훨씬 간결하고, 직관적이라는 것을 알 수 있다.\n",
    "(그리고 뭔가 있어보이지 않는가 ^_^)  \n",
    "아무튼 이제 이 파이썬스러운 코드를 어떻게써야 하는지 하나씩 알아가보도록 하자! "
   ]
  },
  {
   "cell_type": "code",
   "execution_count": 8,
   "metadata": {},
   "outputs": [
    {
     "name": "stdout",
     "output_type": "stream",
     "text": [
      "redbluegreenyellow\n"
     ]
    }
   ],
   "source": [
    "# 일반 파이썬 코드\n",
    "\n",
    "colors = [\"red\", \"blue\", \"green\", \"yellow\"]\n",
    "result = \"\"\n",
    "\n",
    "for s in colors:\n",
    "    result += s\n",
    "\n",
    "print(result)"
   ]
  },
  {
   "cell_type": "code",
   "execution_count": 9,
   "metadata": {},
   "outputs": [
    {
     "name": "stdout",
     "output_type": "stream",
     "text": [
      "redbluegreenyellow\n"
     ]
    }
   ],
   "source": [
    "# 파이썬스러운 코드\n",
    "\n",
    "colors = [\"red\", \"blue\", \"green\", \"yellow\"]\n",
    "result = \"\".join(colors)\n",
    "\n",
    "print(result)"
   ]
  },
  {
   "cell_type": "markdown",
   "metadata": {},
   "source": [
    "# 2. Split & Join"
   ]
  },
  {
   "cell_type": "markdown",
   "metadata": {},
   "source": [
    "``Split``과 ``Join`` 을 사용하여 ``String`` 타입과 ``List`` 타입을 자유롭게 변환시킬 수 있는 방법을 알아보도록 하겠다.   \n",
    "이 부분은 가장 파이썬스러움을 잘 나타내주는 부분이자,   \n",
    "앞으로 굉장히 자주 사용하게 되는 부분이니 잘 익혀두도록 하자."
   ]
  },
  {
   "cell_type": "markdown",
   "metadata": {},
   "source": [
    "### Split 함수: 나누는 역할"
   ]
  },
  {
   "cell_type": "markdown",
   "metadata": {},
   "source": [
    "split 함수는 String 타입의 값을 어떠한 기준으로 나누어, List 타입의 값으로 변환해주는 역할을 한다.  \n",
    "<br>\n",
    "기본 사용방법은 ``문자열.split(나누는 기준)``으로 사용한다.  \n",
    "자세한 사용법은 아래 코드를 통해 살펴보도록 하자."
   ]
  },
  {
   "cell_type": "code",
   "execution_count": 11,
   "metadata": {},
   "outputs": [
    {
     "name": "stdout",
     "output_type": "stream",
     "text": [
      "['zero', 'one', 'two', 'three']\n",
      "['zero', 'one', 'two', 'three']\n",
      "zero\n",
      "one\n",
      "two\n",
      "three\n"
     ]
    }
   ],
   "source": [
    "# 1. 빈칸을 기준으로 문자열을 나누기\n",
    "items = 'zero one two three'.split()\n",
    "print(items)\n",
    "\n",
    "# 2. 콤마(,)를 기준으로 문자열을 나누기\n",
    "items = 'zero,one,two,three'.split(',')\n",
    "print(items)\n",
    "\n",
    "# 3. 콤마(,)를 기준으로 문자열을 나눈 후, 각 a b c d 변수로 unpacking하기\n",
    "items = 'zero,one,two,three'\n",
    "a, b, c, d = items.split(\",\")\n",
    "print(a)\n",
    "print(b)\n",
    "print(c)\n",
    "print(d)"
   ]
  },
  {
   "cell_type": "markdown",
   "metadata": {},
   "source": [
    "### Join 함수: 합치는 역할"
   ]
  },
  {
   "cell_type": "markdown",
   "metadata": {},
   "source": [
    "Join 함수는 String 타입의 값을 담고 있는 List를 합쳐, 하나의 String 타입의 값으로 변환해주는 역할을 한다.  \n",
    "기본 사용방법은 ``연결방법.join(String 타입의 값을 담고 있는 List)``으로 사용한다.  \n",
    "역시 자세한 내용은 아래 코드를 통해 살펴보도록 하자."
   ]
  },
  {
   "cell_type": "code",
   "execution_count": 12,
   "metadata": {},
   "outputs": [
    {
     "name": "stdout",
     "output_type": "stream",
     "text": [
      "redbluegreenyellow\n",
      "red blue green yellow\n",
      "red, blue, green, yellow\n"
     ]
    }
   ],
   "source": [
    "# 1. join 함수 기본\n",
    "colors = ['red', 'blue', 'green', 'yellow']\n",
    "result = ''.join(colors)\n",
    "print(result)\n",
    "\n",
    "# 2. 한 칸씩 띄우는 연결방법을 사용해서 join 함수 사용 \n",
    "result = ' '.join(colors) \n",
    "print(result)\n",
    "\n",
    "# 3. 콤마(, ) 연결방법을 사용해서 join 함수 사용 \n",
    "result = ', '.join(colors) # 연결 시 \", \"으로 연결\n",
    "print(result)"
   ]
  },
  {
   "cell_type": "markdown",
   "metadata": {},
   "source": [
    "# 3. List Comprehension"
   ]
  },
  {
   "cell_type": "markdown",
   "metadata": {},
   "source": [
    "이번에는 List Comprehension에 대해서 배워보도록 하자.  \n",
    "List Comprehension을 직관적으로 해석해보면, 포괄적인 List, 포함되는 리스트라는 의미를 가지고 있다는 것을 알 수 있다.  \n",
    "아직 무슨 말인지 감이 안올거다.  \n",
    "그냥 간단하게 말하면, **리스트를 만들 때 쉽고 빠르게 만들 수 있는 방법**을 다루는 내용이 List Comprehension이다.  \n",
    "실제로, ``for문`` ``while문``보다 속도가 빠르다고 하니, 기존 리스트를 만드는 방법과 어떤 차이점을 갖고 있는지 알아보자."
   ]
  },
  {
   "cell_type": "markdown",
   "metadata": {},
   "source": [
    "### 파이썬 일반 코드와 파이썬스러운 코드의 비교 -> 기본"
   ]
  },
  {
   "cell_type": "code",
   "execution_count": 13,
   "metadata": {},
   "outputs": [
    {
     "name": "stdout",
     "output_type": "stream",
     "text": [
      "[0, 1, 2, 3, 4, 5, 6, 7, 8, 9]\n"
     ]
    }
   ],
   "source": [
    "result = []\n",
    "\n",
    "for i in range(10):\n",
    "    result.append(i)\n",
    "\n",
    "print(result)"
   ]
  },
  {
   "cell_type": "code",
   "execution_count": 15,
   "metadata": {},
   "outputs": [
    {
     "name": "stdout",
     "output_type": "stream",
     "text": [
      "[0, 1, 2, 3, 4, 5, 6, 7, 8, 9]\n"
     ]
    }
   ],
   "source": [
    "result = [i for i in range(10)]    # List Comprehension 사용\n",
    "print(result)"
   ]
  },
  {
   "cell_type": "markdown",
   "metadata": {},
   "source": [
    "### 파이썬 일반 코드와 파이썬스러운 코드의 비교 -> Nested For Loop"
   ]
  },
  {
   "cell_type": "code",
   "execution_count": 17,
   "metadata": {},
   "outputs": [
    {
     "name": "stdout",
     "output_type": "stream",
     "text": [
      "['HW', 'Ho', 'Hr', 'Hl', 'Hd', 'eW', 'eo', 'er', 'el', 'ed', 'lW', 'lo', 'lr', 'll', 'ld', 'lW', 'lo', 'lr', 'll', 'ld', 'oW', 'oo', 'or', 'ol', 'od']\n"
     ]
    }
   ],
   "source": [
    "word_1 = \"Hello\"\n",
    "word_2 = \"World\"\n",
    "result = []\n",
    "\n",
    "for i in word_1:\n",
    "    for j in word_2:\n",
    "        result.append(i+j)\n",
    "        \n",
    "print(result)"
   ]
  },
  {
   "cell_type": "code",
   "execution_count": 18,
   "metadata": {},
   "outputs": [
    {
     "name": "stdout",
     "output_type": "stream",
     "text": [
      "['HW', 'Ho', 'Hr', 'Hl', 'Hd', 'eW', 'eo', 'er', 'el', 'ed', 'lW', 'lo', 'lr', 'll', 'ld', 'lW', 'lo', 'lr', 'll', 'ld', 'oW', 'oo', 'or', 'ol', 'od']\n"
     ]
    }
   ],
   "source": [
    "word_1 = \"Hello\"\n",
    "word_2 = \"World\"\n",
    "result = [i+j for i in word_1 for j in word_2]\n",
    "\n",
    "print(result)"
   ]
  },
  {
   "cell_type": "markdown",
   "metadata": {},
   "source": [
    "### 파이썬 일반 코드와 파이썬스러운 코드의 비교 -> 조건 추가"
   ]
  },
  {
   "cell_type": "code",
   "execution_count": 21,
   "metadata": {},
   "outputs": [
    {
     "name": "stdout",
     "output_type": "stream",
     "text": [
      "['AD', 'AE', 'BA', 'BD', 'BE', 'CA', 'CD', 'CE']\n"
     ]
    }
   ],
   "source": [
    "case_1 = [\"A\", \"B\", \"C\"]\n",
    "case_2 = [\"D\", \"E\", \"A\"]\n",
    "result = []\n",
    "\n",
    "for i in case_1:\n",
    "    for j in case_2:\n",
    "        if not(i==j):\n",
    "            result.append(i+j)\n",
    "\n",
    "result.sort()\n",
    "print(result)"
   ]
  },
  {
   "cell_type": "code",
   "execution_count": 22,
   "metadata": {},
   "outputs": [
    {
     "name": "stdout",
     "output_type": "stream",
     "text": [
      "['AD', 'AE', 'BA', 'BD', 'BE', 'CA', 'CD', 'CE']\n"
     ]
    }
   ],
   "source": [
    "case_1 = [\"A\", \"B\", \"C\"]\n",
    "case_2 = [\"D\", \"E\", \"A\"]\n",
    "\n",
    "result = [i+j for i in case_1 for j in case_2 if not(i==j)]\n",
    "result.sort()\n",
    "\n",
    "print(result)"
   ]
  },
  {
   "cell_type": "markdown",
   "metadata": {},
   "source": [
    "### 파이썬 일반 코드와 파이썬스러운 코드의 비교 -> split 함수와 응용"
   ]
  },
  {
   "cell_type": "code",
   "execution_count": 23,
   "metadata": {},
   "outputs": [
    {
     "name": "stdout",
     "output_type": "stream",
     "text": [
      "['The', 'quick', 'brown', 'fox', 'jumps', 'over', 'the', 'lazy', 'dog']\n",
      "['THE', 'the', 3]\n",
      "['QUICK', 'quick', 5]\n",
      "['BROWN', 'brown', 5]\n",
      "['FOX', 'fox', 3]\n",
      "['JUMPS', 'jumps', 5]\n",
      "['OVER', 'over', 4]\n",
      "['THE', 'the', 3]\n",
      "['LAZY', 'lazy', 4]\n",
      "['DOG', 'dog', 3]\n"
     ]
    }
   ],
   "source": [
    "words = 'The quick brown fox jumps over the lazy dog'.split()\n",
    "print(words)\n",
    "\n",
    "stuff = [[w.upper(), w.lower(), len(w)] for w in words]\n",
    "\n",
    "for i in stuff:\n",
    "    print(i)"
   ]
  }
 ],
 "metadata": {
  "kernelspec": {
   "display_name": "Python 3",
   "language": "python",
   "name": "python3"
  },
  "language_info": {
   "codemirror_mode": {
    "name": "ipython",
    "version": 3
   },
   "file_extension": ".py",
   "mimetype": "text/x-python",
   "name": "python",
   "nbconvert_exporter": "python",
   "pygments_lexer": "ipython3",
   "version": "3.8.5"
  }
 },
 "nbformat": 4,
 "nbformat_minor": 4
}
