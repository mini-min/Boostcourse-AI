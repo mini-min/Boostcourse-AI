{
 "cells": [
  {
   "cell_type": "code",
   "execution_count": 15,
   "metadata": {
    "ExecuteTime": {
     "end_time": "2018-02-06T11:52:06.567374Z",
     "start_time": "2018-02-06T11:52:05.910995Z"
    },
    "scrolled": false
   },
   "outputs": [],
   "source": [
    "import pandas as pd #라이브러리 호출"
   ]
  },
  {
   "cell_type": "code",
   "execution_count": 22,
   "metadata": {
    "ExecuteTime": {
     "end_time": "2018-02-06T11:53:37.369556Z",
     "start_time": "2018-02-06T11:53:36.277692Z"
    },
    "scrolled": false
   },
   "outputs": [],
   "source": [
    "# data_url = 'https://archive.ics.uci.edu/ml/machine-learning-databases/housing/housing.data' #Data URL\n",
    "# data_url = './housing.data' #Data URL\n",
    "# data_url = '20160901_20160930_public_list.csv'\n",
    "#df_data = pd.read_csv(data_url, sep='\\s+', header = None) #csv 타입 데이터 로드, separate는 빈공간으로 지정하고, Column은 없음\n",
    "df_data = pd.read_csv('20160901_20160930_public_list.csv' )"
   ]
  },
  {
   "cell_type": "code",
   "execution_count": 23,
   "metadata": {
    "ExecuteTime": {
     "end_time": "2018-02-06T11:53:37.638998Z",
     "start_time": "2018-02-06T11:53:37.596861Z"
    },
    "scrolled": false
   },
   "outputs": [
    {
     "data": {
      "text/html": [
       "<div>\n",
       "<style scoped>\n",
       "    .dataframe tbody tr th:only-of-type {\n",
       "        vertical-align: middle;\n",
       "    }\n",
       "\n",
       "    .dataframe tbody tr th {\n",
       "        vertical-align: top;\n",
       "    }\n",
       "\n",
       "    .dataframe thead th {\n",
       "        text-align: right;\n",
       "    }\n",
       "</style>\n",
       "<table border=\"1\" class=\"dataframe\">\n",
       "  <thead>\n",
       "    <tr style=\"text-align: right;\">\n",
       "      <th></th>\n",
       "      <th>nid</th>\n",
       "      <th>category</th>\n",
       "      <th>title</th>\n",
       "      <th>writer</th>\n",
       "      <th>dept_nm</th>\n",
       "      <th>regist_dt</th>\n",
       "      <th>taxonomy</th>\n",
       "      <th>telno</th>\n",
       "      <th>cpyrht</th>\n",
       "      <th>url</th>\n",
       "    </tr>\n",
       "  </thead>\n",
       "  <tbody>\n",
       "    <tr>\n",
       "      <th>0</th>\n",
       "      <td>7107226</td>\n",
       "      <td>환경</td>\n",
       "      <td>서울시 배출권거래제 대응계획</td>\n",
       "      <td>백승주</td>\n",
       "      <td>기후변화대응과</td>\n",
       "      <td>20160922000000</td>\n",
       "      <td>환경&gt;에너지 절감&gt;에너지 절감(배출권 거래제) 계획&gt;서울시 배출권 거래제 대응계획</td>\n",
       "      <td>2133-3598</td>\n",
       "      <td>CC BY</td>\n",
       "      <td>http://opengov.seoul.go.kr/public/7107226</td>\n",
       "    </tr>\n",
       "    <tr>\n",
       "      <th>1</th>\n",
       "      <td>9524895</td>\n",
       "      <td>공통업무</td>\n",
       "      <td>2016년 8월 도시재생본부 주거환경개선과 업무추진비 집행내역</td>\n",
       "      <td>정선용</td>\n",
       "      <td>주거환경개선과</td>\n",
       "      <td>20160902091604</td>\n",
       "      <td>공통업무&gt;업무추진비 사용내역&gt;업무추진비 사용내역&gt;실국본부장, 4급이상 공무원이 장인...</td>\n",
       "      <td>2133-7246</td>\n",
       "      <td>CC BY-NC-ND</td>\n",
       "      <td>http://opengov.seoul.go.kr/public/9524895</td>\n",
       "    </tr>\n",
       "    <tr>\n",
       "      <th>2</th>\n",
       "      <td>9524896</td>\n",
       "      <td>공통업무</td>\n",
       "      <td>2016년 8월 여의도공원 부서운영업무추진비 집행내역</td>\n",
       "      <td>김영주</td>\n",
       "      <td>여의도공원관리사무소</td>\n",
       "      <td>20160902092705</td>\n",
       "      <td>공통업무&gt;업무추진비 사용내역&gt;업무추진비 사용내역&gt;실국본부장, 4급이상 공무원이 장인...</td>\n",
       "      <td>02-761-4078</td>\n",
       "      <td>CC BY-NC-ND</td>\n",
       "      <td>http://opengov.seoul.go.kr/public/9524896</td>\n",
       "    </tr>\n",
       "    <tr>\n",
       "      <th>3</th>\n",
       "      <td>9524897</td>\n",
       "      <td>공통업무</td>\n",
       "      <td>2016년 8월 광진소방서 금호119안전센터 업무추진비 집행내역</td>\n",
       "      <td>서영익</td>\n",
       "      <td>금호119안전센터</td>\n",
       "      <td>20160902093731</td>\n",
       "      <td>공통업무&gt;업무추진비 사용내역&gt;업무추진비 사용내역&gt;실국본부장, 4급이상 공무원이 장인...</td>\n",
       "      <td>0222911119</td>\n",
       "      <td>CC BY-NC-ND</td>\n",
       "      <td>http://opengov.seoul.go.kr/public/9524897</td>\n",
       "    </tr>\n",
       "    <tr>\n",
       "      <th>4</th>\n",
       "      <td>9524899</td>\n",
       "      <td>주택도시계획</td>\n",
       "      <td>보증금지원형 장기안심주택 공급현황(`12년~`16년 상반기)</td>\n",
       "      <td>안홍기</td>\n",
       "      <td>임대주택과</td>\n",
       "      <td>20160902102711</td>\n",
       "      <td>주택도시계획&gt;임대주택&gt;임대주택 개발 공급현황&gt;장기안심주택 등 임대주택 개발, 공급현황</td>\n",
       "      <td>2133-7068</td>\n",
       "      <td>CC BY-ND</td>\n",
       "      <td>http://opengov.seoul.go.kr/public/9524899</td>\n",
       "    </tr>\n",
       "  </tbody>\n",
       "</table>\n",
       "</div>"
      ],
      "text/plain": [
       "       nid category                                title writer     dept_nm  \\\n",
       "0  7107226       환경                      서울시 배출권거래제 대응계획    백승주     기후변화대응과   \n",
       "1  9524895     공통업무   2016년 8월 도시재생본부 주거환경개선과 업무추진비 집행내역    정선용     주거환경개선과   \n",
       "2  9524896     공통업무        2016년 8월 여의도공원 부서운영업무추진비 집행내역    김영주  여의도공원관리사무소   \n",
       "3  9524897     공통업무  2016년 8월 광진소방서 금호119안전센터 업무추진비 집행내역    서영익   금호119안전센터   \n",
       "4  9524899   주택도시계획    보증금지원형 장기안심주택 공급현황(`12년~`16년 상반기)    안홍기       임대주택과   \n",
       "\n",
       "        regist_dt                                           taxonomy  \\\n",
       "0  20160922000000      환경>에너지 절감>에너지 절감(배출권 거래제) 계획>서울시 배출권 거래제 대응계획   \n",
       "1  20160902091604  공통업무>업무추진비 사용내역>업무추진비 사용내역>실국본부장, 4급이상 공무원이 장인...   \n",
       "2  20160902092705  공통업무>업무추진비 사용내역>업무추진비 사용내역>실국본부장, 4급이상 공무원이 장인...   \n",
       "3  20160902093731  공통업무>업무추진비 사용내역>업무추진비 사용내역>실국본부장, 4급이상 공무원이 장인...   \n",
       "4  20160902102711    주택도시계획>임대주택>임대주택 개발 공급현황>장기안심주택 등 임대주택 개발, 공급현황   \n",
       "\n",
       "         telno       cpyrht                                        url  \n",
       "0    2133-3598        CC BY  http://opengov.seoul.go.kr/public/7107226  \n",
       "1    2133-7246  CC BY-NC-ND  http://opengov.seoul.go.kr/public/9524895  \n",
       "2  02-761-4078  CC BY-NC-ND  http://opengov.seoul.go.kr/public/9524896  \n",
       "3   0222911119  CC BY-NC-ND  http://opengov.seoul.go.kr/public/9524897  \n",
       "4    2133-7068     CC BY-ND  http://opengov.seoul.go.kr/public/9524899  "
      ]
     },
     "execution_count": 23,
     "metadata": {},
     "output_type": "execute_result"
    }
   ],
   "source": [
    "df_data.head() #처음 다섯줄 출력"
   ]
  },
  {
   "cell_type": "code",
   "execution_count": 24,
   "metadata": {
    "ExecuteTime": {
     "end_time": "2018-02-06T11:53:55.095224Z",
     "start_time": "2018-02-06T11:53:55.071166Z"
    },
    "scrolled": false
   },
   "outputs": [
    {
     "ename": "IndentationError",
     "evalue": "unexpected indent (<ipython-input-24-cd4510527163>, line 2)",
     "output_type": "error",
     "traceback": [
      "\u001b[0;36m  File \u001b[0;32m\"<ipython-input-24-cd4510527163>\"\u001b[0;36m, line \u001b[0;32m2\u001b[0m\n\u001b[0;31m    'CRIM','ZN', 'INDUS', 'CHAS', 'NOX', 'RM', 'AGE', 'DIS', 'RAD', 'TAX', 'PTRATIO' ,'B', 'LSTAT', 'MEDV']\u001b[0m\n\u001b[0m    ^\u001b[0m\n\u001b[0;31mIndentationError\u001b[0m\u001b[0;31m:\u001b[0m unexpected indent\n"
     ]
    }
   ],
   "source": [
    "df_data.columns = [\n",
    "    'CRIM','ZN', 'INDUS', 'CHAS', 'NOX', 'RM', 'AGE', 'DIS', 'RAD', 'TAX', 'PTRATIO' ,'B', 'LSTAT', 'MEDV'] \n",
    "# Column Header 이름 지정\n",
    "df_data.head()"
   ]
  },
  {
   "cell_type": "code",
   "execution_count": 26,
   "metadata": {
    "ExecuteTime": {
     "end_time": "2018-02-06T11:54:25.086769Z",
     "start_time": "2018-02-06T11:54:25.082610Z"
    }
   },
   "outputs": [
    {
     "data": {
      "text/plain": [
       "numpy.ndarray"
      ]
     },
     "execution_count": 26,
     "metadata": {},
     "output_type": "execute_result"
    }
   ],
   "source": [
    "type(df_data.values)"
   ]
  }
 ],
 "metadata": {
  "anaconda-cloud": {},
  "kernelspec": {
   "display_name": "Python 3",
   "language": "python",
   "name": "python3"
  },
  "language_info": {
   "codemirror_mode": {
    "name": "ipython",
    "version": 3
   },
   "file_extension": ".py",
   "mimetype": "text/x-python",
   "name": "python",
   "nbconvert_exporter": "python",
   "pygments_lexer": "ipython3",
   "version": "3.8.5"
  },
  "nav_menu": {},
  "toc": {
   "navigate_menu": true,
   "number_sections": true,
   "sideBar": true,
   "threshold": 6,
   "toc_cell": false,
   "toc_section_display": "block",
   "toc_window_display": false
  }
 },
 "nbformat": 4,
 "nbformat_minor": 1
}
