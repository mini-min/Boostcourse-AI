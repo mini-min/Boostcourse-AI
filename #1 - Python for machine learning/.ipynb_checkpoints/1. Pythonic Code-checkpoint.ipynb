{
 "cells": [
  {
   "cell_type": "markdown",
   "metadata": {},
   "source": [
    "# 1. Overview"
   ]
  },
  {
   "cell_type": "markdown",
   "metadata": {},
   "source": [
    "개발자라면, 빠질 수 없이 공부를 해야되는 부분이 클린 코드와 관련된 점이다.  \n",
    "이 클린 코드 관점에서 파이썬이라는 프로그래밍 언어는 굉장히 독특한 점을 갖고 있는데, 그것은 **파이썬스러움**이라는 단어를 보면 알 수 있다.  \n",
    "Pythonic이라 불리는 파이썬의 클린코드는 **파이썬의 기능을 최대한 활용해서 코드를 짜는 것을 의미**한다.  \n",
    "<br>\n",
    "사실 좋은코드란 개념이 명확하게 딱 이거다 정해져있는 것은 아니다.  \n",
    "코드의 본질은 프로그램이 잘 동작하는 것이다. 하지만, 여기에 본인을 포함한 다른 개발자가 읽기 쉽고, 유지보수까지 쉽다면, 가장 좋지 않겠는가.  \n",
    "이처럼 코드의 가독성과 일관성을 위해 우리는 파이썬스럽게(Pythonic) 코딩을 할 필요가 있다.  \n",
    "게다가 이 파이썬스러운 코드는 이미, 나보다 훌륭한 파이썬 프로그래머들이 정해놓은 스타일이니까...이걸 따라서 나쁠건 없지 않나....?"
   ]
  },
  {
   "cell_type": "markdown",
   "metadata": {},
   "source": [
    "### 파이썬 일반 코드와 파이썬스러운(Pythonic) 코드의 비교"
   ]
  },
  {
   "cell_type": "markdown",
   "metadata": {},
   "source": [
    "가장 기초적인 ``for문``을 통해 일반 파이썬 코드와, 파이썬스러운 코드를 직관적으로 비교해보자.\n",
    "\n",
    "- colors에는 여러 색을 String형태로 담아준다.\n",
    "- 빈 문자열 result를 생성해주고, colors를 반복시키면서 result에 계속 문자열을 더해준다.\n",
    "\n",
    "언뜻봐도 파이썬스러운 코드가 훨씬 간결하고, 직관적이라는 것을 알 수 있다.\n",
    "(그리고 뭔가 있어보이지 않는가 ^_^)  \n",
    "아무튼 이제 이 파이썬스러운 코드를 어떻게써야 하는지 하나씩 알아가보도록 하자! "
   ]
  },
  {
   "cell_type": "code",
   "execution_count": 8,
   "metadata": {},
   "outputs": [
    {
     "name": "stdout",
     "output_type": "stream",
     "text": [
      "redbluegreenyellow\n"
     ]
    }
   ],
   "source": [
    "# 일반 파이썬 코드\n",
    "\n",
    "colors = [\"red\", \"blue\", \"green\", \"yellow\"]\n",
    "result = \"\"\n",
    "\n",
    "for s in colors:\n",
    "    result += s\n",
    "\n",
    "print(result)"
   ]
  },
  {
   "cell_type": "code",
   "execution_count": 9,
   "metadata": {},
   "outputs": [
    {
     "name": "stdout",
     "output_type": "stream",
     "text": [
      "redbluegreenyellow\n"
     ]
    }
   ],
   "source": [
    "# 파이썬스러운 코드\n",
    "\n",
    "colors = [\"red\", \"blue\", \"green\", \"yellow\"]\n",
    "result = \"\".join(colors)\n",
    "\n",
    "print(result)"
   ]
  },
  {
   "cell_type": "markdown",
   "metadata": {},
   "source": [
    "# 2. Split & Join"
   ]
  },
  {
   "cell_type": "markdown",
   "metadata": {},
   "source": [
    "``Split``과 ``Join`` 을 사용하여 ``String`` 타입과 ``List`` 타입을 자유롭게 변환시킬 수 있는 방법을 알아보도록 하겠다.   \n",
    "이 부분은 가장 파이썬스러움을 잘 나타내주는 부분이자,   \n",
    "앞으로 굉장히 자주 사용하게 되는 부분이니 잘 익혀두도록 하자."
   ]
  },
  {
   "cell_type": "markdown",
   "metadata": {},
   "source": [
    "### Split 함수: 나누는 역할"
   ]
  },
  {
   "cell_type": "markdown",
   "metadata": {},
   "source": [
    "split 함수는 String 타입의 값을 어떠한 기준으로 나누어, List 타입의 값으로 변환해주는 역할을 한다.  \n",
    "<br>\n",
    "기본 사용방법은 ``문자열.split(나누는 기준)``으로 사용한다.  \n",
    "자세한 사용법은 아래 코드를 통해 살펴보도록 하자."
   ]
  },
  {
   "cell_type": "code",
   "execution_count": 11,
   "metadata": {},
   "outputs": [
    {
     "name": "stdout",
     "output_type": "stream",
     "text": [
      "['zero', 'one', 'two', 'three']\n",
      "['zero', 'one', 'two', 'three']\n",
      "zero\n",
      "one\n",
      "two\n",
      "three\n"
     ]
    }
   ],
   "source": [
    "# 1. 빈칸을 기준으로 문자열을 나누기\n",
    "items = 'zero one two three'.split()\n",
    "print(items)\n",
    "\n",
    "# 2. 콤마(,)를 기준으로 문자열을 나누기\n",
    "items = 'zero,one,two,three'.split(',')\n",
    "print(items)\n",
    "\n",
    "# 3. 콤마(,)를 기준으로 문자열을 나눈 후, 각 a b c d 변수로 unpacking하기\n",
    "items = 'zero,one,two,three'\n",
    "a, b, c, d = items.split(\",\")\n",
    "print(a)\n",
    "print(b)\n",
    "print(c)\n",
    "print(d)"
   ]
  },
  {
   "cell_type": "markdown",
   "metadata": {},
   "source": [
    "### Join 함수: 합치는 역할"
   ]
  },
  {
   "cell_type": "markdown",
   "metadata": {},
   "source": [
    "Join 함수는 String 타입의 값을 담고 있는 List를 합쳐, 하나의 String 타입의 값으로 변환해주는 역할을 한다.  \n",
    "기본 사용방법은 ``연결방법.join(String 타입의 값을 담고 있는 List)``으로 사용한다.  \n",
    "역시 자세한 내용은 아래 코드를 통해 살펴보도록 하자."
   ]
  },
  {
   "cell_type": "code",
   "execution_count": 12,
   "metadata": {},
   "outputs": [
    {
     "name": "stdout",
     "output_type": "stream",
     "text": [
      "redbluegreenyellow\n",
      "red blue green yellow\n",
      "red, blue, green, yellow\n"
     ]
    }
   ],
   "source": [
    "# 1. join 함수 기본\n",
    "colors = ['red', 'blue', 'green', 'yellow']\n",
    "result = ''.join(colors)\n",
    "print(result)\n",
    "\n",
    "# 2. 한 칸씩 띄우는 연결방법을 사용해서 join 함수 사용 \n",
    "result = ' '.join(colors) \n",
    "print(result)\n",
    "\n",
    "# 3. 콤마(, ) 연결방법을 사용해서 join 함수 사용 \n",
    "result = ', '.join(colors) # 연결 시 \", \"으로 연결\n",
    "print(result)"
   ]
  },
  {
   "cell_type": "markdown",
   "metadata": {},
   "source": [
    "# 3. List Comprehension"
   ]
  },
  {
   "cell_type": "markdown",
   "metadata": {},
   "source": [
    "이번에는 List Comprehension에 대해서 배워보도록 하자.  \n",
    "List Comprehension을 직관적으로 해석해보면, 포괄적인 List, 포함되는 리스트라는 의미를 가지고 있다는 것을 알 수 있다.  \n",
    "아직 무슨 말인지 감이 안올거다.  \n",
    "그냥 간단하게 말하면, **리스트를 만들 때 쉽고 빠르게 만들 수 있는 방법**을 다루는 내용이 List Comprehension이다.  \n",
    "실제로, ``for문`` ``while문``보다 속도가 빠르다고 하니, 기존 리스트를 만드는 방법과 어떤 차이점을 갖고 있는지 알아보자."
   ]
  },
  {
   "cell_type": "markdown",
   "metadata": {},
   "source": [
    "### 파이썬 일반 코드와 파이썬스러운 코드의 비교 -> 기본"
   ]
  },
  {
   "cell_type": "code",
   "execution_count": 13,
   "metadata": {},
   "outputs": [
    {
     "name": "stdout",
     "output_type": "stream",
     "text": [
      "[0, 1, 2, 3, 4, 5, 6, 7, 8, 9]\n"
     ]
    }
   ],
   "source": [
    "result = []\n",
    "\n",
    "for i in range(10):\n",
    "    result.append(i)\n",
    "\n",
    "print(result)"
   ]
  },
  {
   "cell_type": "code",
   "execution_count": 15,
   "metadata": {},
   "outputs": [
    {
     "name": "stdout",
     "output_type": "stream",
     "text": [
      "[0, 1, 2, 3, 4, 5, 6, 7, 8, 9]\n"
     ]
    }
   ],
   "source": [
    "result = [i for i in range(10)]    # List Comprehension 사용\n",
    "print(result)"
   ]
  },
  {
   "cell_type": "markdown",
   "metadata": {},
   "source": [
    "### 파이썬 일반 코드와 파이썬스러운 코드의 비교 -> Nested For Loop"
   ]
  },
  {
   "cell_type": "code",
   "execution_count": 17,
   "metadata": {},
   "outputs": [
    {
     "name": "stdout",
     "output_type": "stream",
     "text": [
      "['HW', 'Ho', 'Hr', 'Hl', 'Hd', 'eW', 'eo', 'er', 'el', 'ed', 'lW', 'lo', 'lr', 'll', 'ld', 'lW', 'lo', 'lr', 'll', 'ld', 'oW', 'oo', 'or', 'ol', 'od']\n"
     ]
    }
   ],
   "source": [
    "word_1 = \"Hello\"\n",
    "word_2 = \"World\"\n",
    "result = []\n",
    "\n",
    "for i in word_1:\n",
    "    for j in word_2:\n",
    "        result.append(i+j)\n",
    "        \n",
    "print(result)"
   ]
  },
  {
   "cell_type": "code",
   "execution_count": 18,
   "metadata": {},
   "outputs": [
    {
     "name": "stdout",
     "output_type": "stream",
     "text": [
      "['HW', 'Ho', 'Hr', 'Hl', 'Hd', 'eW', 'eo', 'er', 'el', 'ed', 'lW', 'lo', 'lr', 'll', 'ld', 'lW', 'lo', 'lr', 'll', 'ld', 'oW', 'oo', 'or', 'ol', 'od']\n"
     ]
    }
   ],
   "source": [
    "word_1 = \"Hello\"\n",
    "word_2 = \"World\"\n",
    "result = [i+j for i in word_1 for j in word_2]\n",
    "\n",
    "print(result)"
   ]
  },
  {
   "cell_type": "markdown",
   "metadata": {},
   "source": [
    "### 파이썬 일반 코드와 파이썬스러운 코드의 비교 -> 조건 추가"
   ]
  },
  {
   "cell_type": "code",
   "execution_count": 21,
   "metadata": {},
   "outputs": [
    {
     "name": "stdout",
     "output_type": "stream",
     "text": [
      "['AD', 'AE', 'BA', 'BD', 'BE', 'CA', 'CD', 'CE']\n"
     ]
    }
   ],
   "source": [
    "case_1 = [\"A\", \"B\", \"C\"]\n",
    "case_2 = [\"D\", \"E\", \"A\"]\n",
    "result = []\n",
    "\n",
    "for i in case_1:\n",
    "    for j in case_2:\n",
    "        if not(i==j):\n",
    "            result.append(i+j)\n",
    "\n",
    "result.sort()\n",
    "print(result)"
   ]
  },
  {
   "cell_type": "code",
   "execution_count": 22,
   "metadata": {},
   "outputs": [
    {
     "name": "stdout",
     "output_type": "stream",
     "text": [
      "['AD', 'AE', 'BA', 'BD', 'BE', 'CA', 'CD', 'CE']\n"
     ]
    }
   ],
   "source": [
    "case_1 = [\"A\", \"B\", \"C\"]\n",
    "case_2 = [\"D\", \"E\", \"A\"]\n",
    "\n",
    "result = [i+j for i in case_1 for j in case_2 if not(i==j)]\n",
    "result.sort()\n",
    "\n",
    "print(result)"
   ]
  },
  {
   "cell_type": "markdown",
   "metadata": {},
   "source": [
    "### 파이썬 일반 코드와 파이썬스러운 코드의 비교 -> split 함수와 응용"
   ]
  },
  {
   "cell_type": "code",
   "execution_count": 23,
   "metadata": {},
   "outputs": [
    {
     "name": "stdout",
     "output_type": "stream",
     "text": [
      "['The', 'quick', 'brown', 'fox', 'jumps', 'over', 'the', 'lazy', 'dog']\n",
      "['THE', 'the', 3]\n",
      "['QUICK', 'quick', 5]\n",
      "['BROWN', 'brown', 5]\n",
      "['FOX', 'fox', 3]\n",
      "['JUMPS', 'jumps', 5]\n",
      "['OVER', 'over', 4]\n",
      "['THE', 'the', 3]\n",
      "['LAZY', 'lazy', 4]\n",
      "['DOG', 'dog', 3]\n"
     ]
    }
   ],
   "source": [
    "words = 'The quick brown fox jumps over the lazy dog'.split()\n",
    "print(words)\n",
    "\n",
    "stuff = [[w.upper(), w.lower(), len(w)] for w in words]\n",
    "\n",
    "for i in stuff:\n",
    "    print(i)"
   ]
  },
  {
   "cell_type": "markdown",
   "metadata": {},
   "source": [
    "# 4. Enumerate & Zip"
   ]
  },
  {
   "cell_type": "markdown",
   "metadata": {},
   "source": [
    "이번에는 리스트의 값을 추출할때 함께 인덱스를 추출할 수 있는 방법으로 이용되는 ``enumerate``와,  \n",
    "두개 이상의 list 값을 병렬적으로 추출할 수 있는 ``zip`` 모듈을 사용하여 pythonic code를 작성하는 방법을 알아보자."
   ]
  },
  {
   "cell_type": "markdown",
   "metadata": {},
   "source": [
    "### Enumerate: 리스트의 값과 인덱스를 함께 추출하는 방법"
   ]
  },
  {
   "cell_type": "code",
   "execution_count": 29,
   "metadata": {},
   "outputs": [
    {
     "data": {
      "text/plain": [
       "{0: 'Gachon',\n",
       " 1: 'University',\n",
       " 2: 'is',\n",
       " 3: 'an',\n",
       " 4: 'academic',\n",
       " 5: 'institute',\n",
       " 6: 'located',\n",
       " 7: 'in',\n",
       " 8: 'South',\n",
       " 9: 'Korea.'}"
      ]
     },
     "execution_count": 29,
     "metadata": {},
     "output_type": "execute_result"
    }
   ],
   "source": [
    "{i:j for i,j in enumerate('Gachon University is an academic institute located in South Korea.'.split())}"
   ]
  },
  {
   "cell_type": "markdown",
   "metadata": {},
   "source": [
    "### Zip: 두 개 이상의 List 값을 병렬적으로 추출하는 방법"
   ]
  },
  {
   "cell_type": "code",
   "execution_count": 24,
   "metadata": {},
   "outputs": [
    {
     "name": "stdout",
     "output_type": "stream",
     "text": [
      "a1 b1\n",
      "a2 b2\n",
      "a3 b3\n"
     ]
    }
   ],
   "source": [
    "# 1. 기본 for문을 사용해서, zip 함수를 사용할 경우\n",
    "\n",
    "alist = ['a1', 'a2', 'a3']\n",
    "blist = ['b1', 'b2', 'b3']\n",
    "\n",
    "for a, b in zip(alist, blist):\n",
    "    print(a, b)"
   ]
  },
  {
   "cell_type": "code",
   "execution_count": 25,
   "metadata": {},
   "outputs": [
    {
     "name": "stdout",
     "output_type": "stream",
     "text": [
      "(1, 10, 100) (2, 20, 200) (3, 30, 300)\n",
      "[111, 222, 333]\n"
     ]
    }
   ],
   "source": [
    "# 2. List Comprehension을 사용해서, zip 함수를 사용할 경우\n",
    "\n",
    "a, b, c = zip((1, 2, 3), (10, 20, 30), (100, 200, 300))\n",
    "print(a, b, c)\n",
    "\n",
    "print([sum(x) for x in zip((1, 2, 3), (10, 20, 30), (100, 200, 300))])"
   ]
  },
  {
   "cell_type": "code",
   "execution_count": 26,
   "metadata": {
    "scrolled": true
   },
   "outputs": [
    {
     "name": "stdout",
     "output_type": "stream",
     "text": [
      "0 a1 b1\n",
      "1 a2 b2\n",
      "2 a3 b3\n"
     ]
    }
   ],
   "source": [
    "# 3. enumerate와 zip 함수를 함께 사용할 경우\n",
    "\n",
    "alist = ['a1', 'a2', 'a3']\n",
    "blist = ['b1', 'b2', 'b3']\n",
    "\n",
    "for i, (a, b) in enumerate(zip(alist, blist)):\n",
    "    print(i, a, b)"
   ]
  },
  {
   "cell_type": "markdown",
   "metadata": {},
   "source": [
    "# 5. Asterisk"
   ]
  },
  {
   "cell_type": "markdown",
   "metadata": {},
   "source": [
    "``Asterisk(*)`` 연산자는 곱셈뿐만 아니라, 파이썬스러운 코드를 다루고자 할 때 다양한 사용도를 가지게 된다.  \n",
    "어떤 사용도가 있는지 아래에서 확인해보자.\n",
    "\n",
    "- 곱셈 및 거듭제곱 연산으로 사용할 때\n",
    "- 리스트형 컨테이너 타입의 데이터를 반복 확장하고자 할 때\n",
    "- 가변인자 (Variadic Arguments)를 사용하고자 할 때\n",
    "- 컨테이너 타입의 데이터를 Unpacking 할 때\n",
    "<br>\n",
    "<br>\n",
    "오늘 여기서는 세번째 가변인자를 사용하는 방법과, 컨테이너 타입의 데이터를 Unpacking하는 방법을 간략하게 살펴보려고 한다.  \n"
   ]
  },
  {
   "cell_type": "markdown",
   "metadata": {},
   "source": [
    "### 가변인자 (Variadic Arguments)를 사용하고자 할 때"
   ]
  },
  {
   "cell_type": "markdown",
   "metadata": {},
   "source": [
    "우리는 종종 함수에서 가변인자를 필요로 할 때가 있다.  \n",
    "여기서 말하는 가변인자란, 들어오는 인자의 갯수를 모른다거나, 그 어떤 인자라도 모두 받아서 처리를 해야하는때를 의미한다.\n",
    "\n",
    "파이썬에서는 인자의 종류가 2가지가 있다.  \n",
    "하나는 그대로 위치에 따라 정해지는 인자인, ``positional arguments``이고, 하나는 키워드를 가진 이름을 가진 인자``keyword arguments``이다."
   ]
  },
  {
   "cell_type": "code",
   "execution_count": 30,
   "metadata": {},
   "outputs": [
    {
     "name": "stdout",
     "output_type": "stream",
     "text": [
      "1 (2, 3, 4, 5, 6)\n",
      "<class 'tuple'>\n"
     ]
    }
   ],
   "source": [
    "def asterisk_test(a, *args):\n",
    "    print(a, args)\n",
    "    print(type(args))\n",
    "\n",
    "asterisk_test(1,2,3,4,5,6)"
   ]
  },
  {
   "cell_type": "code",
   "execution_count": 31,
   "metadata": {},
   "outputs": [
    {
     "name": "stdout",
     "output_type": "stream",
     "text": [
      "1 {'b': 2, 'c': 3, 'd': 4, 'e': 5, 'f': 6}\n",
      "<class 'dict'>\n"
     ]
    }
   ],
   "source": [
    "def asterisk_test(a, **kargs):\n",
    "    print(a, kargs)\n",
    "    print(type(kargs))\n",
    "\n",
    "asterisk_test(1, b=2, c=3, d=4, e=5, f=6)"
   ]
  },
  {
   "cell_type": "markdown",
   "metadata": {},
   "source": [
    "### 컨테이너 타입의 데이터를 Unpacking 할 때"
   ]
  },
  {
   "cell_type": "code",
   "execution_count": 32,
   "metadata": {},
   "outputs": [
    {
     "name": "stdout",
     "output_type": "stream",
     "text": [
      "1 (2, 3, 4, 5, 6)\n",
      "<class 'tuple'>\n"
     ]
    }
   ],
   "source": [
    "def asterisk_test(a, *args):\n",
    "    print(a, args)\n",
    "    print(type(args))\n",
    "    \n",
    "asterisk_test(1, *(2,3,4,5,6))"
   ]
  },
  {
   "cell_type": "code",
   "execution_count": 33,
   "metadata": {},
   "outputs": [
    {
     "name": "stdout",
     "output_type": "stream",
     "text": [
      "1 2 3 4 5 6\n",
      "<class 'tuple'>\n"
     ]
    }
   ],
   "source": [
    "def asterisk_test(a, args):\n",
    "    print(a, *args)\n",
    "    print(type(args))\n",
    "    \n",
    "asterisk_test(1, (2,3,4,5,6))"
   ]
  },
  {
   "cell_type": "code",
   "execution_count": 34,
   "metadata": {},
   "outputs": [
    {
     "name": "stdout",
     "output_type": "stream",
     "text": [
      "[1, 2] [3, 4] [5, 6]\n",
      "[1, 2] [3, 4] [5, 6]\n"
     ]
    }
   ],
   "source": [
    "a, b, c = ([1, 2], [3, 4], [5, 6])\n",
    "print(a, b, c)\n",
    "\n",
    "data = ([1, 2], [3, 4], [5, 6])\n",
    "print(*data)"
   ]
  },
  {
   "cell_type": "code",
   "execution_count": 35,
   "metadata": {},
   "outputs": [
    {
     "name": "stdout",
     "output_type": "stream",
     "text": [
      "10 1 2 3\n"
     ]
    }
   ],
   "source": [
    "def asterisk_test(a, b, c, d,):\n",
    "    print(a, b, c, d)\n",
    "    \n",
    "data = {\"b\":1, \"c\":2, \"d\":3}\n",
    "asterisk_test(10, **data)"
   ]
  },
  {
   "cell_type": "code",
   "execution_count": 36,
   "metadata": {},
   "outputs": [
    {
     "name": "stdout",
     "output_type": "stream",
     "text": [
      "(1, 3, 5)\n",
      "(2, 4, 6)\n"
     ]
    }
   ],
   "source": [
    "for data in zip(*([1, 2], [3, 4], [5, 6])):\n",
    "    print(data)"
   ]
  }
 ],
 "metadata": {
  "kernelspec": {
   "display_name": "Python 3",
   "language": "python",
   "name": "python3"
  },
  "language_info": {
   "codemirror_mode": {
    "name": "ipython",
    "version": 3
   },
   "file_extension": ".py",
   "mimetype": "text/x-python",
   "name": "python",
   "nbconvert_exporter": "python",
   "pygments_lexer": "ipython3",
   "version": "3.8.5"
  }
 },
 "nbformat": 4,
 "nbformat_minor": 4
}
