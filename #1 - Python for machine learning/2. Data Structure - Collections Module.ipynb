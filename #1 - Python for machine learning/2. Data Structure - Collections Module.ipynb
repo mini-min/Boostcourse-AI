{
 "cells": [
  {
   "cell_type": "markdown",
   "metadata": {},
   "source": [
    "# Data Structure - Collections 모듈"
   ]
  },
  {
   "cell_type": "markdown",
   "metadata": {},
   "source": [
    "**Data Structure**(리스트, 튜플, 딕셔너리 자료형)에 대해 조금 더 데이터 처리를 쉽게 도와주는 객체를 모아둔 모듈이 있다.  \n",
    "바로 ``Collections``라는 모듈인데, 오늘은 이 ``Collections`` 모듈이 갖고 있는 내장 기능들에 대해 조금이나마 알아보려고 한다.  \n",
    "우선 모듈 종류는 아래와 같다. <br>\n",
    "\n",
    "```python\n",
    "from collections import deque\n",
    "from collections import Counter\n",
    "from collections import OrderedDict\n",
    "from collections import defaultdict\n",
    "from collections import namedtuple\n",
    "```"
   ]
  },
  {
   "cell_type": "markdown",
   "metadata": {},
   "source": [
    "## 1. deque"
   ]
  },
  {
   "cell_type": "markdown",
   "metadata": {},
   "source": [
    "**deque**는 ``Stack``과 ``Queue``를 지원하는 모듈이다.  \n",
    "Stack과 Queue를 지원하면서 ``List``에 비해 더 효율적인 자료 저장 방식을 지원하게 된다.\n",
    "**deque**의 특징은 아래와 같다.\n",
    "<br>\n",
    "- 기존 ``list`` 타입에서 사용하는 함수를 모두 지원한다.\n",
    "- 기존 ``list``보다 더 효율적인 자료구조를 제공한다.\n",
    "- ``rotate``, ``reverse``등 Linked List의 특성을 지원한다.\n",
    "- 효율적인 메모리 구조로 처리 속도를 향상시켰다.\n",
    "\n",
    "\n",
    "아 그럼 잠깐, ``Stack``과 ``Queue``의 개념을 모르는 분들을 위해 개념을 가볍게 확인하고 오자."
   ]
  },
  {
   "cell_type": "markdown",
   "metadata": {},
   "source": [
    "#### Stack\n",
    "- 차곡차곡 쌓아 올린 형태의 자료구조를 의미\n",
    "- 같은 구조와 크기의 자료를 정해진 방향으로만 쌓을 수 있고, 그 위치 또한 **top**으로 항상 정해져있다.\n",
    "- 시간 순서에 따라 자료가 쌓이기 때문에 **가장 마지막에 삽입된 자료가 가장 먼저 삭제**된다.\n",
    "- 추가하는 연산은 ``push``, 삭제하는 연산을 ``pop``이라고 한다.\n",
    "- 이러한 스택의 구조를 **후입선출(LIFO, Last-In-First-Out) 방식의 구조**라 부른다."
   ]
  },
  {
   "cell_type": "markdown",
   "metadata": {},
   "source": [
    "#### Queue\n",
    "- 줄을 서서 기다리는 형태의 자료구조를 의미\n",
    "- 한쪽(**rear**)에서는 추가만, 다른 한쪽(**front**)에서는 삭제 연산만 이루어진다.\n",
    "- 추가하는 연산은 ``인큐(enQueue)``, 삭제하는 연산을 ``디큐(dnQueue)``라고 부르며, 각각 rear와 front로 이루어지는 위치가 다르다.\n",
    "- 줄을 서는 것처럼 자료가 쌓이기 때문에 **가장 먼저 큐에 들어온 순서대로 원소가 삭제**된다.\n",
    "- 이러한 스택의 구조를 **선입선출(FIFO, First in first out) 방식의 구조**라 부른다."
   ]
  },
  {
   "cell_type": "code",
   "execution_count": 1,
   "metadata": {},
   "outputs": [],
   "source": [
    "from collections import deque"
   ]
  },
  {
   "cell_type": "code",
   "execution_count": 2,
   "metadata": {},
   "outputs": [
    {
     "name": "stdout",
     "output_type": "stream",
     "text": [
      "deque([0, 1, 2, 3, 4])\n"
     ]
    }
   ],
   "source": [
    "deque_list = deque()\n",
    "\n",
    "for i in range(5):\n",
    "    deque_list.append(i)\n",
    "\n",
    "print(deque_list)"
   ]
  },
  {
   "cell_type": "code",
   "execution_count": 3,
   "metadata": {},
   "outputs": [
    {
     "name": "stdout",
     "output_type": "stream",
     "text": [
      "deque([10, 0, 1, 2, 3, 4])\n"
     ]
    }
   ],
   "source": [
    "deque_list.appendleft(10)\n",
    "print(deque_list)"
   ]
  },
  {
   "cell_type": "code",
   "execution_count": 4,
   "metadata": {},
   "outputs": [
    {
     "name": "stdout",
     "output_type": "stream",
     "text": [
      "deque([3, 4, 10, 0, 1, 2])\n",
      "deque([1, 2, 3, 4, 10, 0])\n"
     ]
    }
   ],
   "source": [
    "deque_list.rotate(2)\n",
    "print(deque_list)\n",
    "\n",
    "deque_list.rotate(2)\n",
    "print(deque_list)"
   ]
  },
  {
   "cell_type": "code",
   "execution_count": 5,
   "metadata": {},
   "outputs": [
    {
     "name": "stdout",
     "output_type": "stream",
     "text": [
      "deque([1, 2, 3, 4, 10, 0, 5, 6, 7])\n",
      "deque([7, 6, 5, 1, 2, 3, 4, 10, 0, 5, 6, 7])\n"
     ]
    }
   ],
   "source": [
    "deque_list.extend([5, 6, 7])\n",
    "print(deque_list)\n",
    "\n",
    "deque_list.extendleft([5, 6, 7])\n",
    "print(deque_list)"
   ]
  },
  {
   "cell_type": "markdown",
   "metadata": {},
   "source": [
    "## 2. OrderedDict"
   ]
  },
  {
   "cell_type": "markdown",
   "metadata": {},
   "source": [
    "**OrderedDict**는 딕셔너리 타입의 단점을 개선한 모듈이다.  \n",
    "우선, OrderedDict는 **데이터를 입력한 순서대로 반환**한다는 특징이 있다.  \n",
    "또한, 딕셔너리 타입의 값을, **value 또는 key 값으로 정렬할 때** 사용 가능한 모듈이다.  \n",
    "역시 아래 코드를 통해 살펴보자."
   ]
  },
  {
   "cell_type": "code",
   "execution_count": 9,
   "metadata": {},
   "outputs": [],
   "source": [
    "from collections import OrderedDict"
   ]
  },
  {
   "cell_type": "code",
   "execution_count": 12,
   "metadata": {
    "scrolled": true
   },
   "outputs": [
    {
     "name": "stdout",
     "output_type": "stream",
     "text": [
      "x 100\n",
      "y 200\n",
      "z 300\n",
      "l 500\n"
     ]
    }
   ],
   "source": [
    "d = OrderedDict()\n",
    "d['x'] = 100\n",
    "d['y'] = 200\n",
    "d['z'] = 300\n",
    "d['l'] = 500\n",
    "\n",
    "for k, v in d.items():\n",
    "    print(k, v)"
   ]
  },
  {
   "cell_type": "code",
   "execution_count": 13,
   "metadata": {},
   "outputs": [
    {
     "name": "stdout",
     "output_type": "stream",
     "text": [
      "l 500\n",
      "x 100\n",
      "y 200\n",
      "z 300\n"
     ]
    }
   ],
   "source": [
    "# Key 값으로 정렬\n",
    "for k, v in OrderedDict(sorted(d.items(), key=lambda t: t[0])).items():\n",
    "    print(k, v)"
   ]
  },
  {
   "cell_type": "code",
   "execution_count": 14,
   "metadata": {},
   "outputs": [
    {
     "name": "stdout",
     "output_type": "stream",
     "text": [
      "x 100\n",
      "y 200\n",
      "z 300\n",
      "l 500\n"
     ]
    }
   ],
   "source": [
    "# value 값으로 정렬\n",
    "for k, v in OrderedDict(sorted(d.items(), key=lambda t: t[1])).items():\n",
    "    print(k, v)"
   ]
  },
  {
   "cell_type": "markdown",
   "metadata": {},
   "source": [
    "## 3. defaultdict"
   ]
  },
  {
   "cell_type": "markdown",
   "metadata": {},
   "source": [
    "딕셔너리 타입의 값에 기본 값을 지정하거나, 신규값을 생성할 때 사용하는 방법이 바로 이 ``defaultdict`` 모듈이다.  "
   ]
  },
  {
   "cell_type": "code",
   "execution_count": 15,
   "metadata": {},
   "outputs": [
    {
     "ename": "KeyError",
     "evalue": "'first'",
     "output_type": "error",
     "traceback": [
      "\u001b[0;31m---------------------------------------------------------------------------\u001b[0m",
      "\u001b[0;31mKeyError\u001b[0m                                  Traceback (most recent call last)",
      "\u001b[0;32m<ipython-input-15-3b4ee8f5b4c3>\u001b[0m in \u001b[0;36m<module>\u001b[0;34m\u001b[0m\n\u001b[1;32m      1\u001b[0m \u001b[0md\u001b[0m \u001b[0;34m=\u001b[0m \u001b[0mdict\u001b[0m\u001b[0;34m(\u001b[0m\u001b[0;34m)\u001b[0m\u001b[0;34m\u001b[0m\u001b[0;34m\u001b[0m\u001b[0m\n\u001b[0;32m----> 2\u001b[0;31m \u001b[0mprint\u001b[0m\u001b[0;34m(\u001b[0m\u001b[0md\u001b[0m\u001b[0;34m[\u001b[0m\u001b[0;34m\"first\"\u001b[0m\u001b[0;34m]\u001b[0m\u001b[0;34m)\u001b[0m\u001b[0;34m\u001b[0m\u001b[0;34m\u001b[0m\u001b[0m\n\u001b[0m",
      "\u001b[0;31mKeyError\u001b[0m: 'first'"
     ]
    }
   ],
   "source": [
    "d = dict()\n",
    "print(d[\"first\"])"
   ]
  },
  {
   "cell_type": "code",
   "execution_count": 16,
   "metadata": {},
   "outputs": [],
   "source": [
    "from collections import defaultdict"
   ]
  },
  {
   "cell_type": "code",
   "execution_count": 18,
   "metadata": {},
   "outputs": [
    {
     "name": "stdout",
     "output_type": "stream",
     "text": [
      "0\n"
     ]
    }
   ],
   "source": [
    "d = defaultdict(object)      # Default dictionary를 생성\n",
    "d = defaultdict(lambda: 0)   # Default 값을 0으로 설정합\n",
    "print(d[\"first\"])"
   ]
  },
  {
   "cell_type": "code",
   "execution_count": 20,
   "metadata": {},
   "outputs": [
    {
     "name": "stdout",
     "output_type": "stream",
     "text": [
      "['a', 'press', 'release', 'is', 'the', 'quickest', 'and', 'easiest', 'way', 'to', 'get', 'free', 'publicity.', 'if', 'well', 'written,', 'a', 'press', 'release', 'can', 'result', 'in', 'multiple', 'published', 'articles', 'about', 'your', 'firm', 'and', 'its', 'products.', 'and', 'that', 'can', 'mean', 'new', 'prospects', 'contacting', 'you', 'asking', 'you', 'to', 'sell', 'to', 'them.', '….']\n",
      "and 3\n",
      "to 3\n",
      "a 2\n",
      "press 2\n",
      "release 2\n",
      "can 2\n",
      "you 2\n",
      "is 1\n",
      "the 1\n",
      "quickest 1\n",
      "easiest 1\n",
      "way 1\n",
      "get 1\n",
      "free 1\n",
      "publicity. 1\n",
      "if 1\n",
      "well 1\n",
      "written, 1\n",
      "result 1\n",
      "in 1\n",
      "multiple 1\n",
      "published 1\n",
      "articles 1\n",
      "about 1\n",
      "your 1\n",
      "firm 1\n",
      "its 1\n",
      "products. 1\n",
      "that 1\n",
      "mean 1\n",
      "new 1\n",
      "prospects 1\n",
      "contacting 1\n",
      "asking 1\n",
      "sell 1\n",
      "them. 1\n",
      "…. 1\n"
     ]
    }
   ],
   "source": [
    "# 예제) 한 text에 특정 단어가 몇 개 있는지 세고 싶을 경우\n",
    "text = \"\"\"A press release is the quickest and easiest way to get free\n",
    "publicity. If well written, a press release can result in multiple\n",
    "published articles about your firm and its products. And that can mean\n",
    "new prospects contacting you asking you to sell to them.\n",
    "….\"\"\".lower().split()\n",
    "print(text)\n",
    "\n",
    "word_count = defaultdict(object)        # Default dictionary를 생성\n",
    "word_count = defaultdict(lambda: 0)     # Default 값을 0으로 설정합\n",
    "for word in text:\n",
    "    word_count[word] += 1\n",
    "for i, v in OrderedDict(sorted(word_count.items(), key=lambda t: t[1], reverse=True)).items():\n",
    "    print(i, v)"
   ]
  },
  {
   "cell_type": "markdown",
   "metadata": {},
   "source": [
    "## 4. Counter"
   ]
  },
  {
   "cell_type": "markdown",
   "metadata": {},
   "source": [
    "Sequence type(리스트, 튜플, 딕셔너리 자료형)의 data element들의 갯수를 딕셔너리 타입으로 반환하는 모듈  "
   ]
  },
  {
   "cell_type": "code",
   "execution_count": 25,
   "metadata": {},
   "outputs": [],
   "source": [
    "from collections import Counter"
   ]
  },
  {
   "cell_type": "code",
   "execution_count": 26,
   "metadata": {},
   "outputs": [
    {
     "name": "stdout",
     "output_type": "stream",
     "text": [
      "Counter({'m': 1, 'i': 1, 'n': 1, 'j': 1, 'a': 1, 'e': 1})\n"
     ]
    }
   ],
   "source": [
    "# String 타입\n",
    "\n",
    "c = Counter()\n",
    "c = Counter('minjae')\n",
    "print(c)"
   ]
  },
  {
   "cell_type": "code",
   "execution_count": 28,
   "metadata": {},
   "outputs": [
    {
     "name": "stdout",
     "output_type": "stream",
     "text": [
      "Counter({'red': 4, 'blue': 2})\n",
      "['red', 'red', 'red', 'red', 'blue', 'blue']\n"
     ]
    }
   ],
   "source": [
    "# 딕셔너리 타입\n",
    "\n",
    "c = Counter({'red': 4, 'blue': 2})\n",
    "print(c)\n",
    "print(list(c.elements()))"
   ]
  },
  {
   "cell_type": "code",
   "execution_count": 30,
   "metadata": {},
   "outputs": [
    {
     "name": "stdout",
     "output_type": "stream",
     "text": [
      "Counter({'d': 10, 'c': 7, 'a': 6, 'b': 5})\n",
      "Counter({'d': 4, 'c': 3, 'b': 2, 'a': 1})\n",
      "Counter({'d': 6, 'a': 5, 'c': 4, 'b': 3})\n"
     ]
    }
   ],
   "source": [
    "# Set 타입\n",
    "\n",
    "c = Counter(a=5, b=3, c=4, d=6)\n",
    "d = Counter(a=1, b=2, c=3, d=4)\n",
    "\n",
    "print(c + d)\n",
    "print(c & d)\n",
    "print(c | d)"
   ]
  },
  {
   "cell_type": "markdown",
   "metadata": {},
   "source": [
    "## 5. namedtuple"
   ]
  },
  {
   "cell_type": "markdown",
   "metadata": {},
   "source": [
    "- Tuple 형태로 Data 구조체를 저장하는 방법\n",
    "- 저장되는 data의 variable을 사전에 지정해서 저장하는 방식"
   ]
  },
  {
   "cell_type": "code",
   "execution_count": 21,
   "metadata": {},
   "outputs": [],
   "source": [
    "from collections import namedtuple"
   ]
  },
  {
   "cell_type": "code",
   "execution_count": 24,
   "metadata": {},
   "outputs": [
    {
     "name": "stdout",
     "output_type": "stream",
     "text": [
      "33\n",
      "11 22\n",
      "33\n",
      "Point(x=11, y=22)\n"
     ]
    }
   ],
   "source": [
    "Point = namedtuple('Point', ['x', 'y'])\n",
    "p = Point(11, y=22)\n",
    "x, y = p\n",
    "\n",
    "print(p[0] + p[1])\n",
    "print(x, y)\n",
    "print(p.x + p.y)\n",
    "print(Point(x=11, y=22))"
   ]
  }
 ],
 "metadata": {
  "kernelspec": {
   "display_name": "Python 3",
   "language": "python",
   "name": "python3"
  },
  "language_info": {
   "codemirror_mode": {
    "name": "ipython",
    "version": 3
   },
   "file_extension": ".py",
   "mimetype": "text/x-python",
   "name": "python",
   "nbconvert_exporter": "python",
   "pygments_lexer": "ipython3",
   "version": "3.8.5"
  }
 },
 "nbformat": 4,
 "nbformat_minor": 4
}
